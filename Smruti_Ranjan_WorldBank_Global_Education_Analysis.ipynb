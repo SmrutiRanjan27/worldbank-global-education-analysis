{
  "nbformat": 4,
  "nbformat_minor": 0,
  "metadata": {
    "colab": {
      "name": "Smruti Ranjan - WorldBank Global Education Analysis.ipynb",
      "provenance": [],
      "collapsed_sections": [],
      "toc_visible": true,
      "authorship_tag": "ABX9TyOBSSFxDsajZzS3aZH1dlFb",
      "include_colab_link": true
    },
    "kernelspec": {
      "name": "python3",
      "display_name": "Python 3"
    }
  },
  "cells": [
    {
      "cell_type": "markdown",
      "metadata": {
        "id": "view-in-github",
        "colab_type": "text"
      },
      "source": [
        "<a href=\"https://colab.research.google.com/github/SmrutiRanjan27/worldbank-global-education-analysis/blob/main/Smruti_Ranjan_WorldBank_Global_Education_Analysis.ipynb\" target=\"_parent\"><img src=\"https://colab.research.google.com/assets/colab-badge.svg\" alt=\"Open In Colab\"/></a>"
      ]
    },
    {
      "cell_type": "markdown",
      "metadata": {
        "id": "93gUcnwS0HR8"
      },
      "source": [
        "# Introduction\n",
        "\n",
        "The World Bank EdStats All Indicator Query holds over 4,000 internationally comparable indicators that describe education access, progression, completion, literacy, teachers, population, and expenditures.The indicators cover the education cycle from pre-primary to vocational and tertiary education and also holds learning outcome data from international and regional learning assessments (e.g. PISA, TIMSS, PIRLS), equity data from household surveys, and projection/attainment data.\n",
        "\n",
        "Explore and analyze the data to identify variation of indicators across the globe, which countries are more alike and different. Feel free to add more extensive analyses and details."
      ]
    },
    {
      "cell_type": "code",
      "metadata": {
        "colab": {
          "base_uri": "https://localhost:8080/"
        },
        "id": "YxYedrg_K49N",
        "outputId": "68ddb24a-b543-4b1d-c710-a61a843b0a97"
      },
      "source": [
        "from google.colab import drive\n",
        "drive.mount('/content/drive')"
      ],
      "execution_count": 1,
      "outputs": [
        {
          "output_type": "stream",
          "text": [
            "Drive already mounted at /content/drive; to attempt to forcibly remount, call drive.mount(\"/content/drive\", force_remount=True).\n"
          ],
          "name": "stdout"
        }
      ]
    },
    {
      "cell_type": "code",
      "metadata": {
        "id": "dlhMOUvSMRxf"
      },
      "source": [
        "import pandas as pd\n",
        "import numpy as np\n",
        "import matplotlib.pyplot as plt"
      ],
      "execution_count": 2,
      "outputs": []
    },
    {
      "cell_type": "code",
      "metadata": {
        "id": "FNXVMtOLMF_J"
      },
      "source": [
        "file_path = '/content/drive/MyDrive/AlmaBetter/Cohort Nilgiri/Module 1/Capstone Project/EdStatsData.csv'\n",
        "df_stats = pd.read_csv(file_path)"
      ],
      "execution_count": 3,
      "outputs": []
    },
    {
      "cell_type": "markdown",
      "metadata": {
        "id": "T_ZLjcGBRgYo"
      },
      "source": [
        "## **Preliminary Analysis**"
      ]
    },
    {
      "cell_type": "code",
      "metadata": {
        "colab": {
          "base_uri": "https://localhost:8080/"
        },
        "id": "3fQwI3JsNUUG",
        "outputId": "665fddde-5d83-4db7-9f7d-ca4c79648f9e"
      },
      "source": [
        "# lets look at basic info of the EdstatsData.csv\n",
        "df_stats.info()"
      ],
      "execution_count": 4,
      "outputs": [
        {
          "output_type": "stream",
          "text": [
            "<class 'pandas.core.frame.DataFrame'>\n",
            "RangeIndex: 886930 entries, 0 to 886929\n",
            "Data columns (total 70 columns):\n",
            " #   Column          Non-Null Count   Dtype  \n",
            "---  ------          --------------   -----  \n",
            " 0   Country Name    886930 non-null  object \n",
            " 1   Country Code    886930 non-null  object \n",
            " 2   Indicator Name  886930 non-null  object \n",
            " 3   Indicator Code  886930 non-null  object \n",
            " 4   1970            72288 non-null   float64\n",
            " 5   1971            35537 non-null   float64\n",
            " 6   1972            35619 non-null   float64\n",
            " 7   1973            35545 non-null   float64\n",
            " 8   1974            35730 non-null   float64\n",
            " 9   1975            87306 non-null   float64\n",
            " 10  1976            37483 non-null   float64\n",
            " 11  1977            37574 non-null   float64\n",
            " 12  1978            37576 non-null   float64\n",
            " 13  1979            36809 non-null   float64\n",
            " 14  1980            89122 non-null   float64\n",
            " 15  1981            38777 non-null   float64\n",
            " 16  1982            37511 non-null   float64\n",
            " 17  1983            38460 non-null   float64\n",
            " 18  1984            38606 non-null   float64\n",
            " 19  1985            90296 non-null   float64\n",
            " 20  1986            39372 non-null   float64\n",
            " 21  1987            38641 non-null   float64\n",
            " 22  1988            38552 non-null   float64\n",
            " 23  1989            37540 non-null   float64\n",
            " 24  1990            124405 non-null  float64\n",
            " 25  1991            74437 non-null   float64\n",
            " 26  1992            75543 non-null   float64\n",
            " 27  1993            75793 non-null   float64\n",
            " 28  1994            77462 non-null   float64\n",
            " 29  1995            131361 non-null  float64\n",
            " 30  1996            76807 non-null   float64\n",
            " 31  1997            73453 non-null   float64\n",
            " 32  1998            84914 non-null   float64\n",
            " 33  1999            118839 non-null  float64\n",
            " 34  2000            176676 non-null  float64\n",
            " 35  2001            123509 non-null  float64\n",
            " 36  2002            124205 non-null  float64\n",
            " 37  2003            130363 non-null  float64\n",
            " 38  2004            128814 non-null  float64\n",
            " 39  2005            184108 non-null  float64\n",
            " 40  2006            140312 non-null  float64\n",
            " 41  2007            137272 non-null  float64\n",
            " 42  2008            134387 non-null  float64\n",
            " 43  2009            142108 non-null  float64\n",
            " 44  2010            242442 non-null  float64\n",
            " 45  2011            146012 non-null  float64\n",
            " 46  2012            147264 non-null  float64\n",
            " 47  2013            137509 non-null  float64\n",
            " 48  2014            113789 non-null  float64\n",
            " 49  2015            131058 non-null  float64\n",
            " 50  2016            16460 non-null   float64\n",
            " 51  2017            143 non-null     float64\n",
            " 52  2020            51436 non-null   float64\n",
            " 53  2025            51436 non-null   float64\n",
            " 54  2030            51436 non-null   float64\n",
            " 55  2035            51436 non-null   float64\n",
            " 56  2040            51436 non-null   float64\n",
            " 57  2045            51436 non-null   float64\n",
            " 58  2050            51436 non-null   float64\n",
            " 59  2055            51436 non-null   float64\n",
            " 60  2060            51436 non-null   float64\n",
            " 61  2065            51436 non-null   float64\n",
            " 62  2070            51436 non-null   float64\n",
            " 63  2075            51436 non-null   float64\n",
            " 64  2080            51436 non-null   float64\n",
            " 65  2085            51436 non-null   float64\n",
            " 66  2090            51436 non-null   float64\n",
            " 67  2095            51436 non-null   float64\n",
            " 68  2100            51436 non-null   float64\n",
            " 69  Unnamed: 69     0 non-null       float64\n",
            "dtypes: float64(66), object(4)\n",
            "memory usage: 473.7+ MB\n"
          ],
          "name": "stdout"
        }
      ]
    },
    {
      "cell_type": "markdown",
      "metadata": {
        "id": "x0UkeHk1Rrb5"
      },
      "source": [
        "We have data for years starting from 2020 to 2100. Lets look at the details !"
      ]
    },
    {
      "cell_type": "code",
      "metadata": {
        "colab": {
          "base_uri": "https://localhost:8080/",
          "height": 424
        },
        "id": "WhpmmXzAAYR7",
        "outputId": "421deff5-c2d1-4b55-9bed-45fa9ec0c321"
      },
      "source": [
        "df_stats[['Country Name','Indicator Name','2085']][~df_stats['2085'].isna()]"
      ],
      "execution_count": 5,
      "outputs": [
        {
          "output_type": "execute_result",
          "data": {
            "text/html": [
              "<div>\n",
              "<style scoped>\n",
              "    .dataframe tbody tr th:only-of-type {\n",
              "        vertical-align: middle;\n",
              "    }\n",
              "\n",
              "    .dataframe tbody tr th {\n",
              "        vertical-align: top;\n",
              "    }\n",
              "\n",
              "    .dataframe thead th {\n",
              "        text-align: right;\n",
              "    }\n",
              "</style>\n",
              "<table border=\"1\" class=\"dataframe\">\n",
              "  <thead>\n",
              "    <tr style=\"text-align: right;\">\n",
              "      <th></th>\n",
              "      <th>Country Name</th>\n",
              "      <th>Indicator Name</th>\n",
              "      <th>2085</th>\n",
              "    </tr>\n",
              "  </thead>\n",
              "  <tbody>\n",
              "    <tr>\n",
              "      <th>91309</th>\n",
              "      <td>World</td>\n",
              "      <td>Wittgenstein Projection: Mean years of schooli...</td>\n",
              "      <td>2.70</td>\n",
              "    </tr>\n",
              "    <tr>\n",
              "      <th>91310</th>\n",
              "      <td>World</td>\n",
              "      <td>Wittgenstein Projection: Mean years of schooli...</td>\n",
              "      <td>2.70</td>\n",
              "    </tr>\n",
              "    <tr>\n",
              "      <th>91311</th>\n",
              "      <td>World</td>\n",
              "      <td>Wittgenstein Projection: Mean years of schooli...</td>\n",
              "      <td>2.70</td>\n",
              "    </tr>\n",
              "    <tr>\n",
              "      <th>91312</th>\n",
              "      <td>World</td>\n",
              "      <td>Wittgenstein Projection: Mean years of schooli...</td>\n",
              "      <td>12.10</td>\n",
              "    </tr>\n",
              "    <tr>\n",
              "      <th>91313</th>\n",
              "      <td>World</td>\n",
              "      <td>Wittgenstein Projection: Mean Years of Schooli...</td>\n",
              "      <td>0.10</td>\n",
              "    </tr>\n",
              "    <tr>\n",
              "      <th>...</th>\n",
              "      <td>...</td>\n",
              "      <td>...</td>\n",
              "      <td>...</td>\n",
              "    </tr>\n",
              "    <tr>\n",
              "      <th>886917</th>\n",
              "      <td>Zimbabwe</td>\n",
              "      <td>Wittgenstein Projection: Population in thousan...</td>\n",
              "      <td>91.70</td>\n",
              "    </tr>\n",
              "    <tr>\n",
              "      <th>886918</th>\n",
              "      <td>Zimbabwe</td>\n",
              "      <td>Wittgenstein Projection: Population in thousan...</td>\n",
              "      <td>205.47</td>\n",
              "    </tr>\n",
              "    <tr>\n",
              "      <th>886919</th>\n",
              "      <td>Zimbabwe</td>\n",
              "      <td>Wittgenstein Projection: Population in thousan...</td>\n",
              "      <td>3378.61</td>\n",
              "    </tr>\n",
              "    <tr>\n",
              "      <th>886920</th>\n",
              "      <td>Zimbabwe</td>\n",
              "      <td>Wittgenstein Projection: Population in thousan...</td>\n",
              "      <td>2924.73</td>\n",
              "    </tr>\n",
              "    <tr>\n",
              "      <th>886921</th>\n",
              "      <td>Zimbabwe</td>\n",
              "      <td>Wittgenstein Projection: Population in thousan...</td>\n",
              "      <td>6303.34</td>\n",
              "    </tr>\n",
              "  </tbody>\n",
              "</table>\n",
              "<p>51436 rows × 3 columns</p>\n",
              "</div>"
            ],
            "text/plain": [
              "       Country Name                                     Indicator Name     2085\n",
              "91309         World  Wittgenstein Projection: Mean years of schooli...     2.70\n",
              "91310         World  Wittgenstein Projection: Mean years of schooli...     2.70\n",
              "91311         World  Wittgenstein Projection: Mean years of schooli...     2.70\n",
              "91312         World  Wittgenstein Projection: Mean years of schooli...    12.10\n",
              "91313         World  Wittgenstein Projection: Mean Years of Schooli...     0.10\n",
              "...             ...                                                ...      ...\n",
              "886917     Zimbabwe  Wittgenstein Projection: Population in thousan...    91.70\n",
              "886918     Zimbabwe  Wittgenstein Projection: Population in thousan...   205.47\n",
              "886919     Zimbabwe  Wittgenstein Projection: Population in thousan...  3378.61\n",
              "886920     Zimbabwe  Wittgenstein Projection: Population in thousan...  2924.73\n",
              "886921     Zimbabwe  Wittgenstein Projection: Population in thousan...  6303.34\n",
              "\n",
              "[51436 rows x 3 columns]"
            ]
          },
          "metadata": {
            "tags": []
          },
          "execution_count": 5
        }
      ]
    },
    {
      "cell_type": "code",
      "metadata": {
        "colab": {
          "base_uri": "https://localhost:8080/"
        },
        "id": "2BRWbyv8C_p0",
        "outputId": "730f5f80-2479-4d99-9216-a4a5947b9ec2"
      },
      "source": [
        "df_stats['Indicator Name'][~df_stats['2085'].isna()].unique().shape"
      ],
      "execution_count": 6,
      "outputs": [
        {
          "output_type": "execute_result",
          "data": {
            "text/plain": [
              "(308,)"
            ]
          },
          "metadata": {
            "tags": []
          },
          "execution_count": 6
        }
      ]
    },
    {
      "cell_type": "markdown",
      "metadata": {
        "id": "Gs2cipAoDiEw"
      },
      "source": [
        "The columns with year values from 2020 to 2100 have non-null values which stores the information of preojected values of various Wittgenstein indicators"
      ]
    },
    {
      "cell_type": "code",
      "metadata": {
        "colab": {
          "base_uri": "https://localhost:8080/"
        },
        "id": "2G-hCqfwN-zI",
        "outputId": "ce2f5344-fd7e-48e8-c921-197fc7f770b8"
      },
      "source": [
        "df_stats[df_stats['Country Name']=='Arab World']['Indicator Code']"
      ],
      "execution_count": 7,
      "outputs": [
        {
          "output_type": "execute_result",
          "data": {
            "text/plain": [
              "0                 UIS.NERA.2\n",
              "1               UIS.NERA.2.F\n",
              "2             UIS.NERA.2.GPI\n",
              "3               UIS.NERA.2.M\n",
              "4                SE.PRM.TENR\n",
              "                ...         \n",
              "3660        UIS.LP.AG15T24.M\n",
              "3661       SE.ADT.1524.LT.ZS\n",
              "3662    SE.ADT.1524.LT.FE.ZS\n",
              "3663    SE.ADT.1524.LT.FM.ZS\n",
              "3664    SE.ADT.1524.LT.MA.ZS\n",
              "Name: Indicator Code, Length: 3665, dtype: object"
            ]
          },
          "metadata": {
            "tags": []
          },
          "execution_count": 7
        }
      ]
    },
    {
      "cell_type": "code",
      "metadata": {
        "colab": {
          "base_uri": "https://localhost:8080/"
        },
        "id": "iZ8EvoaKPtxU",
        "outputId": "82ae80bd-7360-4686-d18f-a8be1c80e33a"
      },
      "source": [
        "# lets look at the number of unique countries\n",
        "df_stats['Country Name'].unique().shape"
      ],
      "execution_count": 8,
      "outputs": [
        {
          "output_type": "execute_result",
          "data": {
            "text/plain": [
              "(242,)"
            ]
          },
          "metadata": {
            "tags": []
          },
          "execution_count": 8
        }
      ]
    },
    {
      "cell_type": "code",
      "metadata": {
        "colab": {
          "base_uri": "https://localhost:8080/"
        },
        "id": "7kR6b4YXP46-",
        "outputId": "75da9a93-36d9-40e9-f815-57a80d18a4fa"
      },
      "source": [
        "# lets look at the number of unique indicators in the dataset\n",
        "df_stats['Indicator Name'].unique().shape"
      ],
      "execution_count": 9,
      "outputs": [
        {
          "output_type": "execute_result",
          "data": {
            "text/plain": [
              "(3665,)"
            ]
          },
          "metadata": {
            "tags": []
          },
          "execution_count": 9
        }
      ]
    },
    {
      "cell_type": "code",
      "metadata": {
        "colab": {
          "base_uri": "https://localhost:8080/"
        },
        "id": "Ws8N-rYUQq4Y",
        "outputId": "a584efc1-6ec8-4600-9667-5324d791a292"
      },
      "source": [
        "#lets see if multiplying these two values gives us the total number of entries\n",
        "3665*242"
      ],
      "execution_count": 10,
      "outputs": [
        {
          "output_type": "execute_result",
          "data": {
            "text/plain": [
              "886930"
            ]
          },
          "metadata": {
            "tags": []
          },
          "execution_count": 10
        }
      ]
    },
    {
      "cell_type": "markdown",
      "metadata": {
        "id": "LmOMeNy6QxGY"
      },
      "source": [
        "**We have 242 countries and each of these countries have 3665 indicators !**"
      ]
    },
    {
      "cell_type": "code",
      "metadata": {
        "colab": {
          "base_uri": "https://localhost:8080/",
          "height": 678
        },
        "id": "N1iadOHURB3r",
        "outputId": "5771d35f-8d94-4579-d261-46e35e016c81"
      },
      "source": [
        "df_stats.head()"
      ],
      "execution_count": 11,
      "outputs": [
        {
          "output_type": "execute_result",
          "data": {
            "text/html": [
              "<div>\n",
              "<style scoped>\n",
              "    .dataframe tbody tr th:only-of-type {\n",
              "        vertical-align: middle;\n",
              "    }\n",
              "\n",
              "    .dataframe tbody tr th {\n",
              "        vertical-align: top;\n",
              "    }\n",
              "\n",
              "    .dataframe thead th {\n",
              "        text-align: right;\n",
              "    }\n",
              "</style>\n",
              "<table border=\"1\" class=\"dataframe\">\n",
              "  <thead>\n",
              "    <tr style=\"text-align: right;\">\n",
              "      <th></th>\n",
              "      <th>Country Name</th>\n",
              "      <th>Country Code</th>\n",
              "      <th>Indicator Name</th>\n",
              "      <th>Indicator Code</th>\n",
              "      <th>1970</th>\n",
              "      <th>1971</th>\n",
              "      <th>1972</th>\n",
              "      <th>1973</th>\n",
              "      <th>1974</th>\n",
              "      <th>1975</th>\n",
              "      <th>1976</th>\n",
              "      <th>1977</th>\n",
              "      <th>1978</th>\n",
              "      <th>1979</th>\n",
              "      <th>1980</th>\n",
              "      <th>1981</th>\n",
              "      <th>1982</th>\n",
              "      <th>1983</th>\n",
              "      <th>1984</th>\n",
              "      <th>1985</th>\n",
              "      <th>1986</th>\n",
              "      <th>1987</th>\n",
              "      <th>1988</th>\n",
              "      <th>1989</th>\n",
              "      <th>1990</th>\n",
              "      <th>1991</th>\n",
              "      <th>1992</th>\n",
              "      <th>1993</th>\n",
              "      <th>1994</th>\n",
              "      <th>1995</th>\n",
              "      <th>1996</th>\n",
              "      <th>1997</th>\n",
              "      <th>1998</th>\n",
              "      <th>1999</th>\n",
              "      <th>2000</th>\n",
              "      <th>2001</th>\n",
              "      <th>2002</th>\n",
              "      <th>2003</th>\n",
              "      <th>2004</th>\n",
              "      <th>2005</th>\n",
              "      <th>2006</th>\n",
              "      <th>2007</th>\n",
              "      <th>2008</th>\n",
              "      <th>2009</th>\n",
              "      <th>2010</th>\n",
              "      <th>2011</th>\n",
              "      <th>2012</th>\n",
              "      <th>2013</th>\n",
              "      <th>2014</th>\n",
              "      <th>2015</th>\n",
              "      <th>2016</th>\n",
              "      <th>2017</th>\n",
              "      <th>2020</th>\n",
              "      <th>2025</th>\n",
              "      <th>2030</th>\n",
              "      <th>2035</th>\n",
              "      <th>2040</th>\n",
              "      <th>2045</th>\n",
              "      <th>2050</th>\n",
              "      <th>2055</th>\n",
              "      <th>2060</th>\n",
              "      <th>2065</th>\n",
              "      <th>2070</th>\n",
              "      <th>2075</th>\n",
              "      <th>2080</th>\n",
              "      <th>2085</th>\n",
              "      <th>2090</th>\n",
              "      <th>2095</th>\n",
              "      <th>2100</th>\n",
              "      <th>Unnamed: 69</th>\n",
              "    </tr>\n",
              "  </thead>\n",
              "  <tbody>\n",
              "    <tr>\n",
              "      <th>0</th>\n",
              "      <td>Arab World</td>\n",
              "      <td>ARB</td>\n",
              "      <td>Adjusted net enrolment rate, lower secondary, ...</td>\n",
              "      <td>UIS.NERA.2</td>\n",
              "      <td>NaN</td>\n",
              "      <td>NaN</td>\n",
              "      <td>NaN</td>\n",
              "      <td>NaN</td>\n",
              "      <td>NaN</td>\n",
              "      <td>NaN</td>\n",
              "      <td>NaN</td>\n",
              "      <td>NaN</td>\n",
              "      <td>NaN</td>\n",
              "      <td>NaN</td>\n",
              "      <td>NaN</td>\n",
              "      <td>NaN</td>\n",
              "      <td>NaN</td>\n",
              "      <td>NaN</td>\n",
              "      <td>NaN</td>\n",
              "      <td>NaN</td>\n",
              "      <td>NaN</td>\n",
              "      <td>NaN</td>\n",
              "      <td>NaN</td>\n",
              "      <td>NaN</td>\n",
              "      <td>NaN</td>\n",
              "      <td>NaN</td>\n",
              "      <td>NaN</td>\n",
              "      <td>NaN</td>\n",
              "      <td>NaN</td>\n",
              "      <td>NaN</td>\n",
              "      <td>NaN</td>\n",
              "      <td>NaN</td>\n",
              "      <td>NaN</td>\n",
              "      <td>NaN</td>\n",
              "      <td>NaN</td>\n",
              "      <td>NaN</td>\n",
              "      <td>NaN</td>\n",
              "      <td>NaN</td>\n",
              "      <td>NaN</td>\n",
              "      <td>NaN</td>\n",
              "      <td>NaN</td>\n",
              "      <td>NaN</td>\n",
              "      <td>NaN</td>\n",
              "      <td>NaN</td>\n",
              "      <td>NaN</td>\n",
              "      <td>NaN</td>\n",
              "      <td>NaN</td>\n",
              "      <td>NaN</td>\n",
              "      <td>NaN</td>\n",
              "      <td>NaN</td>\n",
              "      <td>NaN</td>\n",
              "      <td>NaN</td>\n",
              "      <td>NaN</td>\n",
              "      <td>NaN</td>\n",
              "      <td>NaN</td>\n",
              "      <td>NaN</td>\n",
              "      <td>NaN</td>\n",
              "      <td>NaN</td>\n",
              "      <td>NaN</td>\n",
              "      <td>NaN</td>\n",
              "      <td>NaN</td>\n",
              "      <td>NaN</td>\n",
              "      <td>NaN</td>\n",
              "      <td>NaN</td>\n",
              "      <td>NaN</td>\n",
              "      <td>NaN</td>\n",
              "      <td>NaN</td>\n",
              "      <td>NaN</td>\n",
              "      <td>NaN</td>\n",
              "      <td>NaN</td>\n",
              "    </tr>\n",
              "    <tr>\n",
              "      <th>1</th>\n",
              "      <td>Arab World</td>\n",
              "      <td>ARB</td>\n",
              "      <td>Adjusted net enrolment rate, lower secondary, ...</td>\n",
              "      <td>UIS.NERA.2.F</td>\n",
              "      <td>NaN</td>\n",
              "      <td>NaN</td>\n",
              "      <td>NaN</td>\n",
              "      <td>NaN</td>\n",
              "      <td>NaN</td>\n",
              "      <td>NaN</td>\n",
              "      <td>NaN</td>\n",
              "      <td>NaN</td>\n",
              "      <td>NaN</td>\n",
              "      <td>NaN</td>\n",
              "      <td>NaN</td>\n",
              "      <td>NaN</td>\n",
              "      <td>NaN</td>\n",
              "      <td>NaN</td>\n",
              "      <td>NaN</td>\n",
              "      <td>NaN</td>\n",
              "      <td>NaN</td>\n",
              "      <td>NaN</td>\n",
              "      <td>NaN</td>\n",
              "      <td>NaN</td>\n",
              "      <td>NaN</td>\n",
              "      <td>NaN</td>\n",
              "      <td>NaN</td>\n",
              "      <td>NaN</td>\n",
              "      <td>NaN</td>\n",
              "      <td>NaN</td>\n",
              "      <td>NaN</td>\n",
              "      <td>NaN</td>\n",
              "      <td>NaN</td>\n",
              "      <td>NaN</td>\n",
              "      <td>NaN</td>\n",
              "      <td>NaN</td>\n",
              "      <td>NaN</td>\n",
              "      <td>NaN</td>\n",
              "      <td>NaN</td>\n",
              "      <td>NaN</td>\n",
              "      <td>NaN</td>\n",
              "      <td>NaN</td>\n",
              "      <td>NaN</td>\n",
              "      <td>NaN</td>\n",
              "      <td>NaN</td>\n",
              "      <td>NaN</td>\n",
              "      <td>NaN</td>\n",
              "      <td>NaN</td>\n",
              "      <td>NaN</td>\n",
              "      <td>NaN</td>\n",
              "      <td>NaN</td>\n",
              "      <td>NaN</td>\n",
              "      <td>NaN</td>\n",
              "      <td>NaN</td>\n",
              "      <td>NaN</td>\n",
              "      <td>NaN</td>\n",
              "      <td>NaN</td>\n",
              "      <td>NaN</td>\n",
              "      <td>NaN</td>\n",
              "      <td>NaN</td>\n",
              "      <td>NaN</td>\n",
              "      <td>NaN</td>\n",
              "      <td>NaN</td>\n",
              "      <td>NaN</td>\n",
              "      <td>NaN</td>\n",
              "      <td>NaN</td>\n",
              "      <td>NaN</td>\n",
              "      <td>NaN</td>\n",
              "      <td>NaN</td>\n",
              "      <td>NaN</td>\n",
              "    </tr>\n",
              "    <tr>\n",
              "      <th>2</th>\n",
              "      <td>Arab World</td>\n",
              "      <td>ARB</td>\n",
              "      <td>Adjusted net enrolment rate, lower secondary, ...</td>\n",
              "      <td>UIS.NERA.2.GPI</td>\n",
              "      <td>NaN</td>\n",
              "      <td>NaN</td>\n",
              "      <td>NaN</td>\n",
              "      <td>NaN</td>\n",
              "      <td>NaN</td>\n",
              "      <td>NaN</td>\n",
              "      <td>NaN</td>\n",
              "      <td>NaN</td>\n",
              "      <td>NaN</td>\n",
              "      <td>NaN</td>\n",
              "      <td>NaN</td>\n",
              "      <td>NaN</td>\n",
              "      <td>NaN</td>\n",
              "      <td>NaN</td>\n",
              "      <td>NaN</td>\n",
              "      <td>NaN</td>\n",
              "      <td>NaN</td>\n",
              "      <td>NaN</td>\n",
              "      <td>NaN</td>\n",
              "      <td>NaN</td>\n",
              "      <td>NaN</td>\n",
              "      <td>NaN</td>\n",
              "      <td>NaN</td>\n",
              "      <td>NaN</td>\n",
              "      <td>NaN</td>\n",
              "      <td>NaN</td>\n",
              "      <td>NaN</td>\n",
              "      <td>NaN</td>\n",
              "      <td>NaN</td>\n",
              "      <td>NaN</td>\n",
              "      <td>NaN</td>\n",
              "      <td>NaN</td>\n",
              "      <td>NaN</td>\n",
              "      <td>NaN</td>\n",
              "      <td>NaN</td>\n",
              "      <td>NaN</td>\n",
              "      <td>NaN</td>\n",
              "      <td>NaN</td>\n",
              "      <td>NaN</td>\n",
              "      <td>NaN</td>\n",
              "      <td>NaN</td>\n",
              "      <td>NaN</td>\n",
              "      <td>NaN</td>\n",
              "      <td>NaN</td>\n",
              "      <td>NaN</td>\n",
              "      <td>NaN</td>\n",
              "      <td>NaN</td>\n",
              "      <td>NaN</td>\n",
              "      <td>NaN</td>\n",
              "      <td>NaN</td>\n",
              "      <td>NaN</td>\n",
              "      <td>NaN</td>\n",
              "      <td>NaN</td>\n",
              "      <td>NaN</td>\n",
              "      <td>NaN</td>\n",
              "      <td>NaN</td>\n",
              "      <td>NaN</td>\n",
              "      <td>NaN</td>\n",
              "      <td>NaN</td>\n",
              "      <td>NaN</td>\n",
              "      <td>NaN</td>\n",
              "      <td>NaN</td>\n",
              "      <td>NaN</td>\n",
              "      <td>NaN</td>\n",
              "      <td>NaN</td>\n",
              "      <td>NaN</td>\n",
              "    </tr>\n",
              "    <tr>\n",
              "      <th>3</th>\n",
              "      <td>Arab World</td>\n",
              "      <td>ARB</td>\n",
              "      <td>Adjusted net enrolment rate, lower secondary, ...</td>\n",
              "      <td>UIS.NERA.2.M</td>\n",
              "      <td>NaN</td>\n",
              "      <td>NaN</td>\n",
              "      <td>NaN</td>\n",
              "      <td>NaN</td>\n",
              "      <td>NaN</td>\n",
              "      <td>NaN</td>\n",
              "      <td>NaN</td>\n",
              "      <td>NaN</td>\n",
              "      <td>NaN</td>\n",
              "      <td>NaN</td>\n",
              "      <td>NaN</td>\n",
              "      <td>NaN</td>\n",
              "      <td>NaN</td>\n",
              "      <td>NaN</td>\n",
              "      <td>NaN</td>\n",
              "      <td>NaN</td>\n",
              "      <td>NaN</td>\n",
              "      <td>NaN</td>\n",
              "      <td>NaN</td>\n",
              "      <td>NaN</td>\n",
              "      <td>NaN</td>\n",
              "      <td>NaN</td>\n",
              "      <td>NaN</td>\n",
              "      <td>NaN</td>\n",
              "      <td>NaN</td>\n",
              "      <td>NaN</td>\n",
              "      <td>NaN</td>\n",
              "      <td>NaN</td>\n",
              "      <td>NaN</td>\n",
              "      <td>NaN</td>\n",
              "      <td>NaN</td>\n",
              "      <td>NaN</td>\n",
              "      <td>NaN</td>\n",
              "      <td>NaN</td>\n",
              "      <td>NaN</td>\n",
              "      <td>NaN</td>\n",
              "      <td>NaN</td>\n",
              "      <td>NaN</td>\n",
              "      <td>NaN</td>\n",
              "      <td>NaN</td>\n",
              "      <td>NaN</td>\n",
              "      <td>NaN</td>\n",
              "      <td>NaN</td>\n",
              "      <td>NaN</td>\n",
              "      <td>NaN</td>\n",
              "      <td>NaN</td>\n",
              "      <td>NaN</td>\n",
              "      <td>NaN</td>\n",
              "      <td>NaN</td>\n",
              "      <td>NaN</td>\n",
              "      <td>NaN</td>\n",
              "      <td>NaN</td>\n",
              "      <td>NaN</td>\n",
              "      <td>NaN</td>\n",
              "      <td>NaN</td>\n",
              "      <td>NaN</td>\n",
              "      <td>NaN</td>\n",
              "      <td>NaN</td>\n",
              "      <td>NaN</td>\n",
              "      <td>NaN</td>\n",
              "      <td>NaN</td>\n",
              "      <td>NaN</td>\n",
              "      <td>NaN</td>\n",
              "      <td>NaN</td>\n",
              "      <td>NaN</td>\n",
              "      <td>NaN</td>\n",
              "    </tr>\n",
              "    <tr>\n",
              "      <th>4</th>\n",
              "      <td>Arab World</td>\n",
              "      <td>ARB</td>\n",
              "      <td>Adjusted net enrolment rate, primary, both sex...</td>\n",
              "      <td>SE.PRM.TENR</td>\n",
              "      <td>54.822121</td>\n",
              "      <td>54.894138</td>\n",
              "      <td>56.209438</td>\n",
              "      <td>57.267109</td>\n",
              "      <td>57.991138</td>\n",
              "      <td>59.36554</td>\n",
              "      <td>60.999962</td>\n",
              "      <td>61.92268</td>\n",
              "      <td>62.69342</td>\n",
              "      <td>64.383186</td>\n",
              "      <td>65.617767</td>\n",
              "      <td>66.085152</td>\n",
              "      <td>66.608139</td>\n",
              "      <td>67.290451</td>\n",
              "      <td>68.510094</td>\n",
              "      <td>69.033211</td>\n",
              "      <td>69.944908</td>\n",
              "      <td>71.04187</td>\n",
              "      <td>71.693779</td>\n",
              "      <td>71.699097</td>\n",
              "      <td>71.995819</td>\n",
              "      <td>72.602837</td>\n",
              "      <td>70.032722</td>\n",
              "      <td>70.464821</td>\n",
              "      <td>72.645683</td>\n",
              "      <td>71.81176</td>\n",
              "      <td>73.903511</td>\n",
              "      <td>74.425201</td>\n",
              "      <td>75.110817</td>\n",
              "      <td>76.254318</td>\n",
              "      <td>77.245682</td>\n",
              "      <td>78.800522</td>\n",
              "      <td>80.051399</td>\n",
              "      <td>80.805389</td>\n",
              "      <td>81.607063</td>\n",
              "      <td>82.489487</td>\n",
              "      <td>82.685509</td>\n",
              "      <td>83.280342</td>\n",
              "      <td>84.011871</td>\n",
              "      <td>84.195961</td>\n",
              "      <td>85.211998</td>\n",
              "      <td>85.24514</td>\n",
              "      <td>86.101669</td>\n",
              "      <td>85.51194</td>\n",
              "      <td>85.320152</td>\n",
              "      <td>NaN</td>\n",
              "      <td>NaN</td>\n",
              "      <td>NaN</td>\n",
              "      <td>NaN</td>\n",
              "      <td>NaN</td>\n",
              "      <td>NaN</td>\n",
              "      <td>NaN</td>\n",
              "      <td>NaN</td>\n",
              "      <td>NaN</td>\n",
              "      <td>NaN</td>\n",
              "      <td>NaN</td>\n",
              "      <td>NaN</td>\n",
              "      <td>NaN</td>\n",
              "      <td>NaN</td>\n",
              "      <td>NaN</td>\n",
              "      <td>NaN</td>\n",
              "      <td>NaN</td>\n",
              "      <td>NaN</td>\n",
              "      <td>NaN</td>\n",
              "      <td>NaN</td>\n",
              "      <td>NaN</td>\n",
              "    </tr>\n",
              "  </tbody>\n",
              "</table>\n",
              "</div>"
            ],
            "text/plain": [
              "  Country Name Country Code  ... 2100 Unnamed: 69\n",
              "0   Arab World          ARB  ...  NaN         NaN\n",
              "1   Arab World          ARB  ...  NaN         NaN\n",
              "2   Arab World          ARB  ...  NaN         NaN\n",
              "3   Arab World          ARB  ...  NaN         NaN\n",
              "4   Arab World          ARB  ...  NaN         NaN\n",
              "\n",
              "[5 rows x 70 columns]"
            ]
          },
          "metadata": {
            "tags": []
          },
          "execution_count": 11
        }
      ]
    },
    {
      "cell_type": "code",
      "metadata": {
        "colab": {
          "base_uri": "https://localhost:8080/"
        },
        "id": "bNE2S75tRUsf",
        "outputId": "e3abdbf5-252d-4c21-a528-b05b89046c16"
      },
      "source": [
        "# Just trying to get an idea of the dataset\n",
        "df_stats[['Indicator Name','Indicator Code']][:10].values"
      ],
      "execution_count": 12,
      "outputs": [
        {
          "output_type": "execute_result",
          "data": {
            "text/plain": [
              "array([['Adjusted net enrolment rate, lower secondary, both sexes (%)',\n",
              "        'UIS.NERA.2'],\n",
              "       ['Adjusted net enrolment rate, lower secondary, female (%)',\n",
              "        'UIS.NERA.2.F'],\n",
              "       ['Adjusted net enrolment rate, lower secondary, gender parity index (GPI)',\n",
              "        'UIS.NERA.2.GPI'],\n",
              "       ['Adjusted net enrolment rate, lower secondary, male (%)',\n",
              "        'UIS.NERA.2.M'],\n",
              "       ['Adjusted net enrolment rate, primary, both sexes (%)',\n",
              "        'SE.PRM.TENR'],\n",
              "       ['Adjusted net enrolment rate, primary, female (%)',\n",
              "        'SE.PRM.TENR.FE'],\n",
              "       ['Adjusted net enrolment rate, primary, gender parity index (GPI)',\n",
              "        'UIS.NERA.1.GPI'],\n",
              "       ['Adjusted net enrolment rate, primary, male (%)',\n",
              "        'SE.PRM.TENR.MA'],\n",
              "       ['Adjusted net enrolment rate, upper secondary, both sexes (%)',\n",
              "        'UIS.NERA.3'],\n",
              "       ['Adjusted net enrolment rate, upper secondary, female (%)',\n",
              "        'UIS.NERA.3.F']], dtype=object)"
            ]
          },
          "metadata": {
            "tags": []
          },
          "execution_count": 12
        }
      ]
    },
    {
      "cell_type": "markdown",
      "metadata": {
        "id": "coIGVHM1TWdr"
      },
      "source": [
        "**Lets look at the second dataset EdStatsCountry.csv**"
      ]
    },
    {
      "cell_type": "code",
      "metadata": {
        "id": "waLYTGCPSNRo"
      },
      "source": [
        "file_path = '/content/drive/MyDrive/AlmaBetter/Cohort Nilgiri/Module 1/Capstone Project/EdStatsCountry.csv'\n",
        "df_stats_country = pd.read_csv(file_path)"
      ],
      "execution_count": 13,
      "outputs": []
    },
    {
      "cell_type": "code",
      "metadata": {
        "colab": {
          "base_uri": "https://localhost:8080/",
          "height": 817
        },
        "id": "J0Yu2HOUSavs",
        "outputId": "c7fef8db-2c74-4474-98da-05a00bec2b2f"
      },
      "source": [
        "df_stats_country.head()"
      ],
      "execution_count": 14,
      "outputs": [
        {
          "output_type": "execute_result",
          "data": {
            "text/html": [
              "<div>\n",
              "<style scoped>\n",
              "    .dataframe tbody tr th:only-of-type {\n",
              "        vertical-align: middle;\n",
              "    }\n",
              "\n",
              "    .dataframe tbody tr th {\n",
              "        vertical-align: top;\n",
              "    }\n",
              "\n",
              "    .dataframe thead th {\n",
              "        text-align: right;\n",
              "    }\n",
              "</style>\n",
              "<table border=\"1\" class=\"dataframe\">\n",
              "  <thead>\n",
              "    <tr style=\"text-align: right;\">\n",
              "      <th></th>\n",
              "      <th>Country Code</th>\n",
              "      <th>Short Name</th>\n",
              "      <th>Table Name</th>\n",
              "      <th>Long Name</th>\n",
              "      <th>2-alpha code</th>\n",
              "      <th>Currency Unit</th>\n",
              "      <th>Special Notes</th>\n",
              "      <th>Region</th>\n",
              "      <th>Income Group</th>\n",
              "      <th>WB-2 code</th>\n",
              "      <th>National accounts base year</th>\n",
              "      <th>National accounts reference year</th>\n",
              "      <th>SNA price valuation</th>\n",
              "      <th>Lending category</th>\n",
              "      <th>Other groups</th>\n",
              "      <th>System of National Accounts</th>\n",
              "      <th>Alternative conversion factor</th>\n",
              "      <th>PPP survey year</th>\n",
              "      <th>Balance of Payments Manual in use</th>\n",
              "      <th>External debt Reporting status</th>\n",
              "      <th>System of trade</th>\n",
              "      <th>Government Accounting concept</th>\n",
              "      <th>IMF data dissemination standard</th>\n",
              "      <th>Latest population census</th>\n",
              "      <th>Latest household survey</th>\n",
              "      <th>Source of most recent Income and expenditure data</th>\n",
              "      <th>Vital registration complete</th>\n",
              "      <th>Latest agricultural census</th>\n",
              "      <th>Latest industrial data</th>\n",
              "      <th>Latest trade data</th>\n",
              "      <th>Latest water withdrawal data</th>\n",
              "      <th>Unnamed: 31</th>\n",
              "    </tr>\n",
              "  </thead>\n",
              "  <tbody>\n",
              "    <tr>\n",
              "      <th>0</th>\n",
              "      <td>ABW</td>\n",
              "      <td>Aruba</td>\n",
              "      <td>Aruba</td>\n",
              "      <td>Aruba</td>\n",
              "      <td>AW</td>\n",
              "      <td>Aruban florin</td>\n",
              "      <td>SNA data for 2000-2011 are updated from offici...</td>\n",
              "      <td>Latin America &amp; Caribbean</td>\n",
              "      <td>High income: nonOECD</td>\n",
              "      <td>AW</td>\n",
              "      <td>2000</td>\n",
              "      <td>NaN</td>\n",
              "      <td>Value added at basic prices (VAB)</td>\n",
              "      <td>NaN</td>\n",
              "      <td>NaN</td>\n",
              "      <td>Country uses the 1993 System of National Accou...</td>\n",
              "      <td>NaN</td>\n",
              "      <td>NaN</td>\n",
              "      <td>IMF Balance of Payments Manual, 6th edition.</td>\n",
              "      <td>NaN</td>\n",
              "      <td>Special trade system</td>\n",
              "      <td>NaN</td>\n",
              "      <td>NaN</td>\n",
              "      <td>2010</td>\n",
              "      <td>NaN</td>\n",
              "      <td>NaN</td>\n",
              "      <td>Yes</td>\n",
              "      <td>NaN</td>\n",
              "      <td>NaN</td>\n",
              "      <td>2012.0</td>\n",
              "      <td>NaN</td>\n",
              "      <td>NaN</td>\n",
              "    </tr>\n",
              "    <tr>\n",
              "      <th>1</th>\n",
              "      <td>AFG</td>\n",
              "      <td>Afghanistan</td>\n",
              "      <td>Afghanistan</td>\n",
              "      <td>Islamic State of Afghanistan</td>\n",
              "      <td>AF</td>\n",
              "      <td>Afghan afghani</td>\n",
              "      <td>Fiscal year end: March 20; reporting period fo...</td>\n",
              "      <td>South Asia</td>\n",
              "      <td>Low income</td>\n",
              "      <td>AF</td>\n",
              "      <td>2002/03</td>\n",
              "      <td>NaN</td>\n",
              "      <td>Value added at basic prices (VAB)</td>\n",
              "      <td>IDA</td>\n",
              "      <td>HIPC</td>\n",
              "      <td>Country uses the 1993 System of National Accou...</td>\n",
              "      <td>NaN</td>\n",
              "      <td>NaN</td>\n",
              "      <td>NaN</td>\n",
              "      <td>Actual</td>\n",
              "      <td>General trade system</td>\n",
              "      <td>Consolidated central government</td>\n",
              "      <td>General Data Dissemination System (GDDS)</td>\n",
              "      <td>1979</td>\n",
              "      <td>Multiple Indicator Cluster Survey (MICS), 2010/11</td>\n",
              "      <td>Integrated household survey (IHS), 2008</td>\n",
              "      <td>NaN</td>\n",
              "      <td>2013/14</td>\n",
              "      <td>NaN</td>\n",
              "      <td>2012.0</td>\n",
              "      <td>2000</td>\n",
              "      <td>NaN</td>\n",
              "    </tr>\n",
              "    <tr>\n",
              "      <th>2</th>\n",
              "      <td>AGO</td>\n",
              "      <td>Angola</td>\n",
              "      <td>Angola</td>\n",
              "      <td>People's Republic of Angola</td>\n",
              "      <td>AO</td>\n",
              "      <td>Angolan kwanza</td>\n",
              "      <td>April 2013 database update: Based on IMF data,...</td>\n",
              "      <td>Sub-Saharan Africa</td>\n",
              "      <td>Upper middle income</td>\n",
              "      <td>AO</td>\n",
              "      <td>2002</td>\n",
              "      <td>NaN</td>\n",
              "      <td>Value added at producer prices (VAP)</td>\n",
              "      <td>IBRD</td>\n",
              "      <td>NaN</td>\n",
              "      <td>Country uses the 1993 System of National Accou...</td>\n",
              "      <td>1991–96</td>\n",
              "      <td>2005</td>\n",
              "      <td>IMF Balance of Payments Manual, 6th edition.</td>\n",
              "      <td>Actual</td>\n",
              "      <td>Special trade system</td>\n",
              "      <td>Budgetary central government</td>\n",
              "      <td>General Data Dissemination System (GDDS)</td>\n",
              "      <td>1970</td>\n",
              "      <td>Malaria Indicator Survey (MIS), 2011</td>\n",
              "      <td>Integrated household survey (IHS), 2008</td>\n",
              "      <td>NaN</td>\n",
              "      <td>2015</td>\n",
              "      <td>NaN</td>\n",
              "      <td>NaN</td>\n",
              "      <td>2005</td>\n",
              "      <td>NaN</td>\n",
              "    </tr>\n",
              "    <tr>\n",
              "      <th>3</th>\n",
              "      <td>ALB</td>\n",
              "      <td>Albania</td>\n",
              "      <td>Albania</td>\n",
              "      <td>Republic of Albania</td>\n",
              "      <td>AL</td>\n",
              "      <td>Albanian lek</td>\n",
              "      <td>NaN</td>\n",
              "      <td>Europe &amp; Central Asia</td>\n",
              "      <td>Upper middle income</td>\n",
              "      <td>AL</td>\n",
              "      <td>Original chained constant price data are resca...</td>\n",
              "      <td>1996.0</td>\n",
              "      <td>Value added at basic prices (VAB)</td>\n",
              "      <td>IBRD</td>\n",
              "      <td>NaN</td>\n",
              "      <td>Country uses the 1993 System of National Accou...</td>\n",
              "      <td>NaN</td>\n",
              "      <td>Rolling</td>\n",
              "      <td>IMF Balance of Payments Manual, 6th edition.</td>\n",
              "      <td>Actual</td>\n",
              "      <td>General trade system</td>\n",
              "      <td>Budgetary central government</td>\n",
              "      <td>General Data Dissemination System (GDDS)</td>\n",
              "      <td>2011</td>\n",
              "      <td>Demographic and Health Survey (DHS), 2008/09</td>\n",
              "      <td>Living Standards Measurement Study Survey (LSM...</td>\n",
              "      <td>Yes</td>\n",
              "      <td>2012</td>\n",
              "      <td>2010.0</td>\n",
              "      <td>2012.0</td>\n",
              "      <td>2006</td>\n",
              "      <td>NaN</td>\n",
              "    </tr>\n",
              "    <tr>\n",
              "      <th>4</th>\n",
              "      <td>AND</td>\n",
              "      <td>Andorra</td>\n",
              "      <td>Andorra</td>\n",
              "      <td>Principality of Andorra</td>\n",
              "      <td>AD</td>\n",
              "      <td>Euro</td>\n",
              "      <td>NaN</td>\n",
              "      <td>Europe &amp; Central Asia</td>\n",
              "      <td>High income: nonOECD</td>\n",
              "      <td>AD</td>\n",
              "      <td>1990</td>\n",
              "      <td>NaN</td>\n",
              "      <td>NaN</td>\n",
              "      <td>NaN</td>\n",
              "      <td>NaN</td>\n",
              "      <td>Country uses the 1968 System of National Accou...</td>\n",
              "      <td>NaN</td>\n",
              "      <td>NaN</td>\n",
              "      <td>NaN</td>\n",
              "      <td>NaN</td>\n",
              "      <td>Special trade system</td>\n",
              "      <td>NaN</td>\n",
              "      <td>NaN</td>\n",
              "      <td>2011. Population figures compiled from adminis...</td>\n",
              "      <td>NaN</td>\n",
              "      <td>NaN</td>\n",
              "      <td>Yes</td>\n",
              "      <td>NaN</td>\n",
              "      <td>NaN</td>\n",
              "      <td>2006.0</td>\n",
              "      <td>NaN</td>\n",
              "      <td>NaN</td>\n",
              "    </tr>\n",
              "  </tbody>\n",
              "</table>\n",
              "</div>"
            ],
            "text/plain": [
              "  Country Code   Short Name  ... Latest water withdrawal data Unnamed: 31\n",
              "0          ABW        Aruba  ...                          NaN         NaN\n",
              "1          AFG  Afghanistan  ...                         2000         NaN\n",
              "2          AGO       Angola  ...                         2005         NaN\n",
              "3          ALB      Albania  ...                         2006         NaN\n",
              "4          AND      Andorra  ...                          NaN         NaN\n",
              "\n",
              "[5 rows x 32 columns]"
            ]
          },
          "metadata": {
            "tags": []
          },
          "execution_count": 14
        }
      ]
    },
    {
      "cell_type": "code",
      "metadata": {
        "colab": {
          "base_uri": "https://localhost:8080/"
        },
        "id": "w62wVRJP-o-1",
        "outputId": "cb26462a-5cf5-4643-e321-2856b9b1ee9d"
      },
      "source": [
        "# What are the different feature columns\n",
        "df_stats_country.columns"
      ],
      "execution_count": 15,
      "outputs": [
        {
          "output_type": "execute_result",
          "data": {
            "text/plain": [
              "Index(['Country Code', 'Short Name', 'Table Name', 'Long Name', '2-alpha code',\n",
              "       'Currency Unit', 'Special Notes', 'Region', 'Income Group', 'WB-2 code',\n",
              "       'National accounts base year', 'National accounts reference year',\n",
              "       'SNA price valuation', 'Lending category', 'Other groups',\n",
              "       'System of National Accounts', 'Alternative conversion factor',\n",
              "       'PPP survey year', 'Balance of Payments Manual in use',\n",
              "       'External debt Reporting status', 'System of trade',\n",
              "       'Government Accounting concept', 'IMF data dissemination standard',\n",
              "       'Latest population census', 'Latest household survey',\n",
              "       'Source of most recent Income and expenditure data',\n",
              "       'Vital registration complete', 'Latest agricultural census',\n",
              "       'Latest industrial data', 'Latest trade data',\n",
              "       'Latest water withdrawal data', 'Unnamed: 31'],\n",
              "      dtype='object')"
            ]
          },
          "metadata": {
            "tags": []
          },
          "execution_count": 15
        }
      ]
    },
    {
      "cell_type": "code",
      "metadata": {
        "colab": {
          "base_uri": "https://localhost:8080/"
        },
        "id": "kRU_N-R1_mj9",
        "outputId": "e48ee3a2-299c-412b-d747-4e96dfed9af1"
      },
      "source": [
        "df_stats_country.info()"
      ],
      "execution_count": 16,
      "outputs": [
        {
          "output_type": "stream",
          "text": [
            "<class 'pandas.core.frame.DataFrame'>\n",
            "RangeIndex: 241 entries, 0 to 240\n",
            "Data columns (total 32 columns):\n",
            " #   Column                                             Non-Null Count  Dtype  \n",
            "---  ------                                             --------------  -----  \n",
            " 0   Country Code                                       241 non-null    object \n",
            " 1   Short Name                                         241 non-null    object \n",
            " 2   Table Name                                         241 non-null    object \n",
            " 3   Long Name                                          241 non-null    object \n",
            " 4   2-alpha code                                       238 non-null    object \n",
            " 5   Currency Unit                                      215 non-null    object \n",
            " 6   Special Notes                                      145 non-null    object \n",
            " 7   Region                                             214 non-null    object \n",
            " 8   Income Group                                       214 non-null    object \n",
            " 9   WB-2 code                                          240 non-null    object \n",
            " 10  National accounts base year                        205 non-null    object \n",
            " 11  National accounts reference year                   32 non-null     float64\n",
            " 12  SNA price valuation                                197 non-null    object \n",
            " 13  Lending category                                   144 non-null    object \n",
            " 14  Other groups                                       58 non-null     object \n",
            " 15  System of National Accounts                        215 non-null    object \n",
            " 16  Alternative conversion factor                      47 non-null     object \n",
            " 17  PPP survey year                                    145 non-null    object \n",
            " 18  Balance of Payments Manual in use                  181 non-null    object \n",
            " 19  External debt Reporting status                     124 non-null    object \n",
            " 20  System of trade                                    200 non-null    object \n",
            " 21  Government Accounting concept                      161 non-null    object \n",
            " 22  IMF data dissemination standard                    181 non-null    object \n",
            " 23  Latest population census                           213 non-null    object \n",
            " 24  Latest household survey                            141 non-null    object \n",
            " 25  Source of most recent Income and expenditure data  160 non-null    object \n",
            " 26  Vital registration complete                        111 non-null    object \n",
            " 27  Latest agricultural census                         142 non-null    object \n",
            " 28  Latest industrial data                             107 non-null    float64\n",
            " 29  Latest trade data                                  185 non-null    float64\n",
            " 30  Latest water withdrawal data                       179 non-null    object \n",
            " 31  Unnamed: 31                                        0 non-null      float64\n",
            "dtypes: float64(4), object(28)\n",
            "memory usage: 60.4+ KB\n"
          ],
          "name": "stdout"
        }
      ]
    },
    {
      "cell_type": "markdown",
      "metadata": {
        "id": "MlJFCnUUFaF0"
      },
      "source": [
        "**We have economic stats for 241 of 242 countries in the EdStatsCountry dataset**"
      ]
    },
    {
      "cell_type": "code",
      "metadata": {
        "colab": {
          "base_uri": "https://localhost:8080/"
        },
        "id": "oIW2CpO4OcBp",
        "outputId": "cb93d93c-5ec3-48c6-c588-04c297ff55c7"
      },
      "source": [
        "df_stats_country['Country Code'].unique()"
      ],
      "execution_count": 17,
      "outputs": [
        {
          "output_type": "execute_result",
          "data": {
            "text/plain": [
              "array(['ABW', 'AFG', 'AGO', 'ALB', 'AND', 'ARB', 'ARE', 'ARG', 'ARM',\n",
              "       'ASM', 'ATG', 'AUS', 'AUT', 'AZE', 'BDI', 'BEL', 'BEN', 'BFA',\n",
              "       'BGD', 'BGR', 'BHR', 'BHS', 'BIH', 'BLR', 'BLZ', 'BMU', 'BOL',\n",
              "       'BRA', 'BRB', 'BRN', 'BTN', 'BWA', 'CAF', 'CAN', 'CHE', 'CHI',\n",
              "       'CHL', 'CHN', 'CIV', 'CMR', 'COD', 'COG', 'COL', 'COM', 'CPV',\n",
              "       'CRI', 'CUB', 'CUW', 'CYM', 'CYP', 'CZE', 'DEU', 'DJI', 'DMA',\n",
              "       'DNK', 'DOM', 'DZA', 'EAP', 'EAS', 'ECA', 'ECS', 'ECU', 'EGY',\n",
              "       'EMU', 'ERI', 'ESP', 'EST', 'ETH', 'EUU', 'FIN', 'FJI', 'FRA',\n",
              "       'FRO', 'FSM', 'GAB', 'GBR', 'GEO', 'GHA', 'GIB', 'GIN', 'GMB',\n",
              "       'GNB', 'GNQ', 'GRC', 'GRD', 'GRL', 'GTM', 'GUM', 'GUY', 'HIC',\n",
              "       'HKG', 'HND', 'HPC', 'HRV', 'HTI', 'HUN', 'IDN', 'IMN', 'IND',\n",
              "       'IRL', 'IRN', 'IRQ', 'ISL', 'ISR', 'ITA', 'JAM', 'JOR', 'JPN',\n",
              "       'KAZ', 'KEN', 'KGZ', 'KHM', 'KIR', 'KNA', 'KOR', 'KWT', 'LAC',\n",
              "       'LAO', 'LBN', 'LBR', 'LBY', 'LCA', 'LCN', 'LDC', 'LIC', 'LIE',\n",
              "       'LKA', 'LMC', 'LMY', 'LSO', 'LTU', 'LUX', 'LVA', 'MAC', 'MAF',\n",
              "       'MAR', 'MCO', 'MDA', 'MDG', 'MDV', 'MEA', 'MEX', 'MHL', 'MIC',\n",
              "       'MKD', 'MLI', 'MLT', 'MMR', 'MNA', 'MNE', 'MNG', 'MNP', 'MOZ',\n",
              "       'MRT', 'MUS', 'MWI', 'MYS', 'NAC', 'NAM', 'NCL', 'NER', 'NGA',\n",
              "       'NIC', 'NLD', 'NOR', 'NPL', 'NRU', 'NZL', 'OED', 'OMN', 'PAK',\n",
              "       'PAN', 'PER', 'PHL', 'PLW', 'PNG', 'POL', 'PRI', 'PRK', 'PRT',\n",
              "       'PRY', 'PSE', 'PYF', 'QAT', 'ROU', 'RUS', 'RWA', 'SAS', 'SAU',\n",
              "       'SDN', 'SEN', 'SGP', 'SLB', 'SLE', 'SLV', 'SMR', 'SOM', 'SRB',\n",
              "       'SSA', 'SSD', 'SSF', 'STP', 'SUR', 'SVK', 'SVN', 'SWE', 'SWZ',\n",
              "       'SXM', 'SYC', 'SYR', 'TCA', 'TCD', 'TGO', 'THA', 'TJK', 'TKM',\n",
              "       'TLS', 'TON', 'TTO', 'TUN', 'TUR', 'TUV', 'TZA', 'UGA', 'UKR',\n",
              "       'UMC', 'URY', 'USA', 'UZB', 'VCT', 'VEN', 'VIR', 'VNM', 'VUT',\n",
              "       'WLD', 'WSM', 'XKX', 'YEM', 'ZAF', 'ZMB', 'ZWE'], dtype=object)"
            ]
          },
          "metadata": {
            "tags": []
          },
          "execution_count": 17
        }
      ]
    },
    {
      "cell_type": "markdown",
      "metadata": {
        "id": "KGfNxJZfZPjd"
      },
      "source": [
        "**Lets look at the third datset and get some info about EdStatsSeries !**"
      ]
    },
    {
      "cell_type": "code",
      "metadata": {
        "id": "UYGqRCWIWRJ7"
      },
      "source": [
        "file_path = '/content/drive/MyDrive/AlmaBetter/Cohort Nilgiri/Module 1/Capstone Project/EdStatsSeries.csv'\n",
        "df_series = pd.read_csv(file_path)"
      ],
      "execution_count": 18,
      "outputs": []
    },
    {
      "cell_type": "code",
      "metadata": {
        "colab": {
          "base_uri": "https://localhost:8080/"
        },
        "id": "vV3NBioaWcNe",
        "outputId": "253a4c50-6336-4447-a56e-3864fee2e465"
      },
      "source": [
        "df_series.columns"
      ],
      "execution_count": 19,
      "outputs": [
        {
          "output_type": "execute_result",
          "data": {
            "text/plain": [
              "Index(['Series Code', 'Topic', 'Indicator Name', 'Short definition',\n",
              "       'Long definition', 'Unit of measure', 'Periodicity', 'Base Period',\n",
              "       'Other notes', 'Aggregation method', 'Limitations and exceptions',\n",
              "       'Notes from original source', 'General comments', 'Source',\n",
              "       'Statistical concept and methodology', 'Development relevance',\n",
              "       'Related source links', 'Other web links', 'Related indicators',\n",
              "       'License Type', 'Unnamed: 20'],\n",
              "      dtype='object')"
            ]
          },
          "metadata": {
            "tags": []
          },
          "execution_count": 19
        }
      ]
    },
    {
      "cell_type": "code",
      "metadata": {
        "colab": {
          "base_uri": "https://localhost:8080/"
        },
        "id": "fIxy4rYlWsk-",
        "outputId": "5a98da27-84c5-45f7-cbb6-b6de9a1a5f8d"
      },
      "source": [
        "df_series.info()"
      ],
      "execution_count": 20,
      "outputs": [
        {
          "output_type": "stream",
          "text": [
            "<class 'pandas.core.frame.DataFrame'>\n",
            "RangeIndex: 3665 entries, 0 to 3664\n",
            "Data columns (total 21 columns):\n",
            " #   Column                               Non-Null Count  Dtype  \n",
            "---  ------                               --------------  -----  \n",
            " 0   Series Code                          3665 non-null   object \n",
            " 1   Topic                                3665 non-null   object \n",
            " 2   Indicator Name                       3665 non-null   object \n",
            " 3   Short definition                     2156 non-null   object \n",
            " 4   Long definition                      3665 non-null   object \n",
            " 5   Unit of measure                      0 non-null      float64\n",
            " 6   Periodicity                          99 non-null     object \n",
            " 7   Base Period                          314 non-null    object \n",
            " 8   Other notes                          552 non-null    object \n",
            " 9   Aggregation method                   47 non-null     object \n",
            " 10  Limitations and exceptions           14 non-null     object \n",
            " 11  Notes from original source           0 non-null      float64\n",
            " 12  General comments                     14 non-null     object \n",
            " 13  Source                               3665 non-null   object \n",
            " 14  Statistical concept and methodology  23 non-null     object \n",
            " 15  Development relevance                3 non-null      object \n",
            " 16  Related source links                 215 non-null    object \n",
            " 17  Other web links                      0 non-null      float64\n",
            " 18  Related indicators                   0 non-null      float64\n",
            " 19  License Type                         0 non-null      float64\n",
            " 20  Unnamed: 20                          0 non-null      float64\n",
            "dtypes: float64(6), object(15)\n",
            "memory usage: 601.4+ KB\n"
          ],
          "name": "stdout"
        }
      ]
    },
    {
      "cell_type": "markdown",
      "metadata": {
        "id": "9kMv8ywxW2eD"
      },
      "source": [
        "**So we have got detailed information about the each of 3665 indicators in EdStatsData in this dataset named EdstatsSeries.csv**"
      ]
    },
    {
      "cell_type": "code",
      "metadata": {
        "colab": {
          "base_uri": "https://localhost:8080/",
          "height": 660
        },
        "id": "48J7BLMZXOle",
        "outputId": "aac7677c-769d-4348-d9dc-0385375cb6c3"
      },
      "source": [
        "df_series.head()"
      ],
      "execution_count": 21,
      "outputs": [
        {
          "output_type": "execute_result",
          "data": {
            "text/html": [
              "<div>\n",
              "<style scoped>\n",
              "    .dataframe tbody tr th:only-of-type {\n",
              "        vertical-align: middle;\n",
              "    }\n",
              "\n",
              "    .dataframe tbody tr th {\n",
              "        vertical-align: top;\n",
              "    }\n",
              "\n",
              "    .dataframe thead th {\n",
              "        text-align: right;\n",
              "    }\n",
              "</style>\n",
              "<table border=\"1\" class=\"dataframe\">\n",
              "  <thead>\n",
              "    <tr style=\"text-align: right;\">\n",
              "      <th></th>\n",
              "      <th>Series Code</th>\n",
              "      <th>Topic</th>\n",
              "      <th>Indicator Name</th>\n",
              "      <th>Short definition</th>\n",
              "      <th>Long definition</th>\n",
              "      <th>Unit of measure</th>\n",
              "      <th>Periodicity</th>\n",
              "      <th>Base Period</th>\n",
              "      <th>Other notes</th>\n",
              "      <th>Aggregation method</th>\n",
              "      <th>Limitations and exceptions</th>\n",
              "      <th>Notes from original source</th>\n",
              "      <th>General comments</th>\n",
              "      <th>Source</th>\n",
              "      <th>Statistical concept and methodology</th>\n",
              "      <th>Development relevance</th>\n",
              "      <th>Related source links</th>\n",
              "      <th>Other web links</th>\n",
              "      <th>Related indicators</th>\n",
              "      <th>License Type</th>\n",
              "      <th>Unnamed: 20</th>\n",
              "    </tr>\n",
              "  </thead>\n",
              "  <tbody>\n",
              "    <tr>\n",
              "      <th>0</th>\n",
              "      <td>BAR.NOED.1519.FE.ZS</td>\n",
              "      <td>Attainment</td>\n",
              "      <td>Barro-Lee: Percentage of female population age...</td>\n",
              "      <td>Percentage of female population age 15-19 with...</td>\n",
              "      <td>Percentage of female population age 15-19 with...</td>\n",
              "      <td>NaN</td>\n",
              "      <td>NaN</td>\n",
              "      <td>NaN</td>\n",
              "      <td>NaN</td>\n",
              "      <td>NaN</td>\n",
              "      <td>NaN</td>\n",
              "      <td>NaN</td>\n",
              "      <td>NaN</td>\n",
              "      <td>Robert J. Barro and Jong-Wha Lee: http://www.b...</td>\n",
              "      <td>NaN</td>\n",
              "      <td>NaN</td>\n",
              "      <td>NaN</td>\n",
              "      <td>NaN</td>\n",
              "      <td>NaN</td>\n",
              "      <td>NaN</td>\n",
              "      <td>NaN</td>\n",
              "    </tr>\n",
              "    <tr>\n",
              "      <th>1</th>\n",
              "      <td>BAR.NOED.1519.ZS</td>\n",
              "      <td>Attainment</td>\n",
              "      <td>Barro-Lee: Percentage of population age 15-19 ...</td>\n",
              "      <td>Percentage of population age 15-19 with no edu...</td>\n",
              "      <td>Percentage of population age 15-19 with no edu...</td>\n",
              "      <td>NaN</td>\n",
              "      <td>NaN</td>\n",
              "      <td>NaN</td>\n",
              "      <td>NaN</td>\n",
              "      <td>NaN</td>\n",
              "      <td>NaN</td>\n",
              "      <td>NaN</td>\n",
              "      <td>NaN</td>\n",
              "      <td>Robert J. Barro and Jong-Wha Lee: http://www.b...</td>\n",
              "      <td>NaN</td>\n",
              "      <td>NaN</td>\n",
              "      <td>NaN</td>\n",
              "      <td>NaN</td>\n",
              "      <td>NaN</td>\n",
              "      <td>NaN</td>\n",
              "      <td>NaN</td>\n",
              "    </tr>\n",
              "    <tr>\n",
              "      <th>2</th>\n",
              "      <td>BAR.NOED.15UP.FE.ZS</td>\n",
              "      <td>Attainment</td>\n",
              "      <td>Barro-Lee: Percentage of female population age...</td>\n",
              "      <td>Percentage of female population age 15+ with n...</td>\n",
              "      <td>Percentage of female population age 15+ with n...</td>\n",
              "      <td>NaN</td>\n",
              "      <td>NaN</td>\n",
              "      <td>NaN</td>\n",
              "      <td>NaN</td>\n",
              "      <td>NaN</td>\n",
              "      <td>NaN</td>\n",
              "      <td>NaN</td>\n",
              "      <td>NaN</td>\n",
              "      <td>Robert J. Barro and Jong-Wha Lee: http://www.b...</td>\n",
              "      <td>NaN</td>\n",
              "      <td>NaN</td>\n",
              "      <td>NaN</td>\n",
              "      <td>NaN</td>\n",
              "      <td>NaN</td>\n",
              "      <td>NaN</td>\n",
              "      <td>NaN</td>\n",
              "    </tr>\n",
              "    <tr>\n",
              "      <th>3</th>\n",
              "      <td>BAR.NOED.15UP.ZS</td>\n",
              "      <td>Attainment</td>\n",
              "      <td>Barro-Lee: Percentage of population age 15+ wi...</td>\n",
              "      <td>Percentage of population age 15+ with no educa...</td>\n",
              "      <td>Percentage of population age 15+ with no educa...</td>\n",
              "      <td>NaN</td>\n",
              "      <td>NaN</td>\n",
              "      <td>NaN</td>\n",
              "      <td>NaN</td>\n",
              "      <td>NaN</td>\n",
              "      <td>NaN</td>\n",
              "      <td>NaN</td>\n",
              "      <td>NaN</td>\n",
              "      <td>Robert J. Barro and Jong-Wha Lee: http://www.b...</td>\n",
              "      <td>NaN</td>\n",
              "      <td>NaN</td>\n",
              "      <td>NaN</td>\n",
              "      <td>NaN</td>\n",
              "      <td>NaN</td>\n",
              "      <td>NaN</td>\n",
              "      <td>NaN</td>\n",
              "    </tr>\n",
              "    <tr>\n",
              "      <th>4</th>\n",
              "      <td>BAR.NOED.2024.FE.ZS</td>\n",
              "      <td>Attainment</td>\n",
              "      <td>Barro-Lee: Percentage of female population age...</td>\n",
              "      <td>Percentage of female population age 20-24 with...</td>\n",
              "      <td>Percentage of female population age 20-24 with...</td>\n",
              "      <td>NaN</td>\n",
              "      <td>NaN</td>\n",
              "      <td>NaN</td>\n",
              "      <td>NaN</td>\n",
              "      <td>NaN</td>\n",
              "      <td>NaN</td>\n",
              "      <td>NaN</td>\n",
              "      <td>NaN</td>\n",
              "      <td>Robert J. Barro and Jong-Wha Lee: http://www.b...</td>\n",
              "      <td>NaN</td>\n",
              "      <td>NaN</td>\n",
              "      <td>NaN</td>\n",
              "      <td>NaN</td>\n",
              "      <td>NaN</td>\n",
              "      <td>NaN</td>\n",
              "      <td>NaN</td>\n",
              "    </tr>\n",
              "  </tbody>\n",
              "</table>\n",
              "</div>"
            ],
            "text/plain": [
              "           Series Code       Topic  ... License Type Unnamed: 20\n",
              "0  BAR.NOED.1519.FE.ZS  Attainment  ...          NaN         NaN\n",
              "1     BAR.NOED.1519.ZS  Attainment  ...          NaN         NaN\n",
              "2  BAR.NOED.15UP.FE.ZS  Attainment  ...          NaN         NaN\n",
              "3     BAR.NOED.15UP.ZS  Attainment  ...          NaN         NaN\n",
              "4  BAR.NOED.2024.FE.ZS  Attainment  ...          NaN         NaN\n",
              "\n",
              "[5 rows x 21 columns]"
            ]
          },
          "metadata": {
            "tags": []
          },
          "execution_count": 21
        }
      ]
    },
    {
      "cell_type": "code",
      "metadata": {
        "colab": {
          "base_uri": "https://localhost:8080/"
        },
        "id": "leIkOhGPXlfI",
        "outputId": "65fc6a64-3d91-4b05-ce1a-ceefd5baf8a0"
      },
      "source": [
        "# lets see if series code of EdStatsSeries is same as indicator code column of EdStatsData.csv\n",
        "len(set(df_stats['Indicator Code'].unique())&set(df_series['Series Code']))"
      ],
      "execution_count": 22,
      "outputs": [
        {
          "output_type": "execute_result",
          "data": {
            "text/plain": [
              "3612"
            ]
          },
          "metadata": {
            "tags": []
          },
          "execution_count": 22
        }
      ]
    },
    {
      "cell_type": "markdown",
      "metadata": {
        "id": "480cQPvKY-DM"
      },
      "source": [
        "**So we have detailed information of about 3612 of 3665 indicators in this dataset**"
      ]
    },
    {
      "cell_type": "markdown",
      "metadata": {
        "id": "XYocBnClZ0a6"
      },
      "source": [
        "**I am curious about the periodicity and base period column, since we see a lot of NA values of a lot years for most of the indicators in EdStatsData dataset. This column might give us a clue about that !**"
      ]
    },
    {
      "cell_type": "code",
      "metadata": {
        "colab": {
          "base_uri": "https://localhost:8080/"
        },
        "id": "XQ6gXvsCaPRs",
        "outputId": "56e2a406-2043-4c90-d27f-f28c2e98c260"
      },
      "source": [
        "df_series[~df_series['Base Period'].isna()]['Base Period'].unique()"
      ],
      "execution_count": 23,
      "outputs": [
        {
          "output_type": "execute_result",
          "data": {
            "text/plain": [
              "array(['2010', '2011', 'Projections (2010 to 2100)', '14'], dtype=object)"
            ]
          },
          "metadata": {
            "tags": []
          },
          "execution_count": 23
        }
      ]
    },
    {
      "cell_type": "code",
      "metadata": {
        "colab": {
          "base_uri": "https://localhost:8080/"
        },
        "id": "9bmyudUZbrYc",
        "outputId": "429e6dfe-6997-410b-b205-09a7f489a2e0"
      },
      "source": [
        "df_series[df_series['Base Period']=='Projections (2010 to 2100)'].shape[0]"
      ],
      "execution_count": 24,
      "outputs": [
        {
          "output_type": "execute_result",
          "data": {
            "text/plain": [
              "308"
            ]
          },
          "metadata": {
            "tags": []
          },
          "execution_count": 24
        }
      ]
    },
    {
      "cell_type": "markdown",
      "metadata": {
        "id": "6HuXT49Icyde"
      },
      "source": [
        "**The number of indicators pertaining to only the projections data from 2010 to 2100 are 308 same as what we observed in EdStatsData.csv where we tried to see number unique indicators value for the years 2020-2100. Hence there are 308 rows for each country with projection data.**"
      ]
    },
    {
      "cell_type": "code",
      "metadata": {
        "colab": {
          "base_uri": "https://localhost:8080/"
        },
        "id": "y3Ss3jb9diK9",
        "outputId": "cc2c5252-dce5-4f88-c004-eb90f911a342"
      },
      "source": [
        "df_series[~df_series['Periodicity'].isna()]['Periodicity'].unique()"
      ],
      "execution_count": 25,
      "outputs": [
        {
          "output_type": "execute_result",
          "data": {
            "text/plain": [
              "array(['Annual'], dtype=object)"
            ]
          },
          "metadata": {
            "tags": []
          },
          "execution_count": 25
        }
      ]
    },
    {
      "cell_type": "code",
      "metadata": {
        "id": "jhrQCuD6d-pJ"
      },
      "source": [
        "# Lets look at the series codes that are collected annually\n",
        "annual_indicators = df_series[df_series['Periodicity'] == 'Annual']['Series Code'].values"
      ],
      "execution_count": 26,
      "outputs": []
    },
    {
      "cell_type": "markdown",
      "metadata": {
        "id": "U29rRaMZuQkO"
      },
      "source": [
        "**Lets look at the fourth data in EdStatsCountry-Series.csv**"
      ]
    },
    {
      "cell_type": "code",
      "metadata": {
        "id": "I01xtMZ1tsbF"
      },
      "source": [
        "file_path = '/content/drive/MyDrive/AlmaBetter/Cohort Nilgiri/Module 1/Capstone Project/EdStatsCountry-Series.csv'\n",
        "df_country_series = pd.read_csv(file_path)"
      ],
      "execution_count": 27,
      "outputs": []
    },
    {
      "cell_type": "code",
      "metadata": {
        "colab": {
          "base_uri": "https://localhost:8080/"
        },
        "id": "_MuBRn07uDaf",
        "outputId": "5ecc1607-7392-423d-d5a8-931d9aed11fc"
      },
      "source": [
        "df_country_series.info()"
      ],
      "execution_count": 28,
      "outputs": [
        {
          "output_type": "stream",
          "text": [
            "<class 'pandas.core.frame.DataFrame'>\n",
            "RangeIndex: 613 entries, 0 to 612\n",
            "Data columns (total 4 columns):\n",
            " #   Column       Non-Null Count  Dtype  \n",
            "---  ------       --------------  -----  \n",
            " 0   CountryCode  613 non-null    object \n",
            " 1   SeriesCode   613 non-null    object \n",
            " 2   DESCRIPTION  613 non-null    object \n",
            " 3   Unnamed: 3   0 non-null      float64\n",
            "dtypes: float64(1), object(3)\n",
            "memory usage: 19.3+ KB\n"
          ],
          "name": "stdout"
        }
      ]
    },
    {
      "cell_type": "code",
      "metadata": {
        "colab": {
          "base_uri": "https://localhost:8080/",
          "height": 206
        },
        "id": "wyEPoOn3uG-G",
        "outputId": "9e9ca776-b199-43fb-b15b-2de3175b749e"
      },
      "source": [
        "df_country_series.head()"
      ],
      "execution_count": 29,
      "outputs": [
        {
          "output_type": "execute_result",
          "data": {
            "text/html": [
              "<div>\n",
              "<style scoped>\n",
              "    .dataframe tbody tr th:only-of-type {\n",
              "        vertical-align: middle;\n",
              "    }\n",
              "\n",
              "    .dataframe tbody tr th {\n",
              "        vertical-align: top;\n",
              "    }\n",
              "\n",
              "    .dataframe thead th {\n",
              "        text-align: right;\n",
              "    }\n",
              "</style>\n",
              "<table border=\"1\" class=\"dataframe\">\n",
              "  <thead>\n",
              "    <tr style=\"text-align: right;\">\n",
              "      <th></th>\n",
              "      <th>CountryCode</th>\n",
              "      <th>SeriesCode</th>\n",
              "      <th>DESCRIPTION</th>\n",
              "      <th>Unnamed: 3</th>\n",
              "    </tr>\n",
              "  </thead>\n",
              "  <tbody>\n",
              "    <tr>\n",
              "      <th>0</th>\n",
              "      <td>ABW</td>\n",
              "      <td>SP.POP.TOTL</td>\n",
              "      <td>Data sources : United Nations World Population...</td>\n",
              "      <td>NaN</td>\n",
              "    </tr>\n",
              "    <tr>\n",
              "      <th>1</th>\n",
              "      <td>ABW</td>\n",
              "      <td>SP.POP.GROW</td>\n",
              "      <td>Data sources: United Nations World Population ...</td>\n",
              "      <td>NaN</td>\n",
              "    </tr>\n",
              "    <tr>\n",
              "      <th>2</th>\n",
              "      <td>AFG</td>\n",
              "      <td>SP.POP.GROW</td>\n",
              "      <td>Data sources: United Nations World Population ...</td>\n",
              "      <td>NaN</td>\n",
              "    </tr>\n",
              "    <tr>\n",
              "      <th>3</th>\n",
              "      <td>AFG</td>\n",
              "      <td>NY.GDP.PCAP.PP.CD</td>\n",
              "      <td>Estimates are based on regression.</td>\n",
              "      <td>NaN</td>\n",
              "    </tr>\n",
              "    <tr>\n",
              "      <th>4</th>\n",
              "      <td>AFG</td>\n",
              "      <td>SP.POP.TOTL</td>\n",
              "      <td>Data sources : United Nations World Population...</td>\n",
              "      <td>NaN</td>\n",
              "    </tr>\n",
              "  </tbody>\n",
              "</table>\n",
              "</div>"
            ],
            "text/plain": [
              "  CountryCode  ... Unnamed: 3\n",
              "0         ABW  ...        NaN\n",
              "1         ABW  ...        NaN\n",
              "2         AFG  ...        NaN\n",
              "3         AFG  ...        NaN\n",
              "4         AFG  ...        NaN\n",
              "\n",
              "[5 rows x 4 columns]"
            ]
          },
          "metadata": {
            "tags": []
          },
          "execution_count": 29
        }
      ]
    },
    {
      "cell_type": "markdown",
      "metadata": {
        "id": "7Nb12l_2uonY"
      },
      "source": [
        "**Lets look at the fifth data in EdStatsSeries.csv**"
      ]
    },
    {
      "cell_type": "code",
      "metadata": {
        "id": "--tnCof-uvXs"
      },
      "source": [
        "file_path = '/content/drive/MyDrive/AlmaBetter/Cohort Nilgiri/Module 1/Capstone Project/EdStatsFootNote.csv'\n",
        "df_footnote = pd.read_csv(file_path)"
      ],
      "execution_count": 30,
      "outputs": []
    },
    {
      "cell_type": "code",
      "metadata": {
        "colab": {
          "base_uri": "https://localhost:8080/"
        },
        "id": "87_8c4Cnu1C8",
        "outputId": "d01e8ca2-9d87-4025-ece7-8a4581ea8ea9"
      },
      "source": [
        "df_footnote.info()"
      ],
      "execution_count": 31,
      "outputs": [
        {
          "output_type": "stream",
          "text": [
            "<class 'pandas.core.frame.DataFrame'>\n",
            "RangeIndex: 643638 entries, 0 to 643637\n",
            "Data columns (total 5 columns):\n",
            " #   Column       Non-Null Count   Dtype  \n",
            "---  ------       --------------   -----  \n",
            " 0   CountryCode  643638 non-null  object \n",
            " 1   SeriesCode   643638 non-null  object \n",
            " 2   Year         643638 non-null  object \n",
            " 3   DESCRIPTION  643638 non-null  object \n",
            " 4   Unnamed: 4   0 non-null       float64\n",
            "dtypes: float64(1), object(4)\n",
            "memory usage: 24.6+ MB\n"
          ],
          "name": "stdout"
        }
      ]
    },
    {
      "cell_type": "code",
      "metadata": {
        "colab": {
          "base_uri": "https://localhost:8080/",
          "height": 206
        },
        "id": "QOYz4DW1u468",
        "outputId": "43010a8f-06d2-4aae-bf6d-d3474337aefa"
      },
      "source": [
        "df_footnote.head()"
      ],
      "execution_count": 32,
      "outputs": [
        {
          "output_type": "execute_result",
          "data": {
            "text/html": [
              "<div>\n",
              "<style scoped>\n",
              "    .dataframe tbody tr th:only-of-type {\n",
              "        vertical-align: middle;\n",
              "    }\n",
              "\n",
              "    .dataframe tbody tr th {\n",
              "        vertical-align: top;\n",
              "    }\n",
              "\n",
              "    .dataframe thead th {\n",
              "        text-align: right;\n",
              "    }\n",
              "</style>\n",
              "<table border=\"1\" class=\"dataframe\">\n",
              "  <thead>\n",
              "    <tr style=\"text-align: right;\">\n",
              "      <th></th>\n",
              "      <th>CountryCode</th>\n",
              "      <th>SeriesCode</th>\n",
              "      <th>Year</th>\n",
              "      <th>DESCRIPTION</th>\n",
              "      <th>Unnamed: 4</th>\n",
              "    </tr>\n",
              "  </thead>\n",
              "  <tbody>\n",
              "    <tr>\n",
              "      <th>0</th>\n",
              "      <td>ABW</td>\n",
              "      <td>SE.PRE.ENRL.FE</td>\n",
              "      <td>YR2001</td>\n",
              "      <td>Country estimation.</td>\n",
              "      <td>NaN</td>\n",
              "    </tr>\n",
              "    <tr>\n",
              "      <th>1</th>\n",
              "      <td>ABW</td>\n",
              "      <td>SE.TER.TCHR.FE</td>\n",
              "      <td>YR2005</td>\n",
              "      <td>Country estimation.</td>\n",
              "      <td>NaN</td>\n",
              "    </tr>\n",
              "    <tr>\n",
              "      <th>2</th>\n",
              "      <td>ABW</td>\n",
              "      <td>SE.PRE.TCHR.FE</td>\n",
              "      <td>YR2000</td>\n",
              "      <td>Country estimation.</td>\n",
              "      <td>NaN</td>\n",
              "    </tr>\n",
              "    <tr>\n",
              "      <th>3</th>\n",
              "      <td>ABW</td>\n",
              "      <td>SE.SEC.ENRL.GC</td>\n",
              "      <td>YR2004</td>\n",
              "      <td>Country estimation.</td>\n",
              "      <td>NaN</td>\n",
              "    </tr>\n",
              "    <tr>\n",
              "      <th>4</th>\n",
              "      <td>ABW</td>\n",
              "      <td>SE.PRE.TCHR</td>\n",
              "      <td>YR2006</td>\n",
              "      <td>Country estimation.</td>\n",
              "      <td>NaN</td>\n",
              "    </tr>\n",
              "  </tbody>\n",
              "</table>\n",
              "</div>"
            ],
            "text/plain": [
              "  CountryCode      SeriesCode    Year          DESCRIPTION  Unnamed: 4\n",
              "0         ABW  SE.PRE.ENRL.FE  YR2001  Country estimation.         NaN\n",
              "1         ABW  SE.TER.TCHR.FE  YR2005  Country estimation.         NaN\n",
              "2         ABW  SE.PRE.TCHR.FE  YR2000  Country estimation.         NaN\n",
              "3         ABW  SE.SEC.ENRL.GC  YR2004  Country estimation.         NaN\n",
              "4         ABW     SE.PRE.TCHR  YR2006  Country estimation.         NaN"
            ]
          },
          "metadata": {
            "tags": []
          },
          "execution_count": 32
        }
      ]
    },
    {
      "cell_type": "markdown",
      "metadata": {
        "id": "5l3gCHRKvK0b"
      },
      "source": [
        "### Preliminary Observations from all datasets :\n",
        "\n",
        "\n",
        "1.   df_stats_country contains a list of all the 241 countries and their economic stats \n",
        "2.   df_stats_data contains data for combination of each country and 3665 indicators from 1970 to 2100\n",
        "3.   df_series contains detailed information about most of the indicators in df_stats_data\n",
        "4.   df_country_series contains some basic information about all the indicators estimated for certain countries\n",
        "5.   df_footnote contains information about uncertaininty and origin of data series used for the indicators for each year\n",
        "\n",
        "\n",
        "\n",
        "\n",
        "\n",
        "\n"
      ]
    },
    {
      "cell_type": "markdown",
      "metadata": {
        "id": "AxCx9-D_ej77"
      },
      "source": [
        "# ***Data Cleaning***"
      ]
    },
    {
      "cell_type": "code",
      "metadata": {
        "colab": {
          "base_uri": "https://localhost:8080/"
        },
        "id": "hU1QcXjQdblN",
        "outputId": "07aead45-822f-4f30-d4a3-a31b44d1c2a8"
      },
      "source": [
        "df_stats.info()"
      ],
      "execution_count": 33,
      "outputs": [
        {
          "output_type": "stream",
          "text": [
            "<class 'pandas.core.frame.DataFrame'>\n",
            "RangeIndex: 886930 entries, 0 to 886929\n",
            "Data columns (total 70 columns):\n",
            " #   Column          Non-Null Count   Dtype  \n",
            "---  ------          --------------   -----  \n",
            " 0   Country Name    886930 non-null  object \n",
            " 1   Country Code    886930 non-null  object \n",
            " 2   Indicator Name  886930 non-null  object \n",
            " 3   Indicator Code  886930 non-null  object \n",
            " 4   1970            72288 non-null   float64\n",
            " 5   1971            35537 non-null   float64\n",
            " 6   1972            35619 non-null   float64\n",
            " 7   1973            35545 non-null   float64\n",
            " 8   1974            35730 non-null   float64\n",
            " 9   1975            87306 non-null   float64\n",
            " 10  1976            37483 non-null   float64\n",
            " 11  1977            37574 non-null   float64\n",
            " 12  1978            37576 non-null   float64\n",
            " 13  1979            36809 non-null   float64\n",
            " 14  1980            89122 non-null   float64\n",
            " 15  1981            38777 non-null   float64\n",
            " 16  1982            37511 non-null   float64\n",
            " 17  1983            38460 non-null   float64\n",
            " 18  1984            38606 non-null   float64\n",
            " 19  1985            90296 non-null   float64\n",
            " 20  1986            39372 non-null   float64\n",
            " 21  1987            38641 non-null   float64\n",
            " 22  1988            38552 non-null   float64\n",
            " 23  1989            37540 non-null   float64\n",
            " 24  1990            124405 non-null  float64\n",
            " 25  1991            74437 non-null   float64\n",
            " 26  1992            75543 non-null   float64\n",
            " 27  1993            75793 non-null   float64\n",
            " 28  1994            77462 non-null   float64\n",
            " 29  1995            131361 non-null  float64\n",
            " 30  1996            76807 non-null   float64\n",
            " 31  1997            73453 non-null   float64\n",
            " 32  1998            84914 non-null   float64\n",
            " 33  1999            118839 non-null  float64\n",
            " 34  2000            176676 non-null  float64\n",
            " 35  2001            123509 non-null  float64\n",
            " 36  2002            124205 non-null  float64\n",
            " 37  2003            130363 non-null  float64\n",
            " 38  2004            128814 non-null  float64\n",
            " 39  2005            184108 non-null  float64\n",
            " 40  2006            140312 non-null  float64\n",
            " 41  2007            137272 non-null  float64\n",
            " 42  2008            134387 non-null  float64\n",
            " 43  2009            142108 non-null  float64\n",
            " 44  2010            242442 non-null  float64\n",
            " 45  2011            146012 non-null  float64\n",
            " 46  2012            147264 non-null  float64\n",
            " 47  2013            137509 non-null  float64\n",
            " 48  2014            113789 non-null  float64\n",
            " 49  2015            131058 non-null  float64\n",
            " 50  2016            16460 non-null   float64\n",
            " 51  2017            143 non-null     float64\n",
            " 52  2020            51436 non-null   float64\n",
            " 53  2025            51436 non-null   float64\n",
            " 54  2030            51436 non-null   float64\n",
            " 55  2035            51436 non-null   float64\n",
            " 56  2040            51436 non-null   float64\n",
            " 57  2045            51436 non-null   float64\n",
            " 58  2050            51436 non-null   float64\n",
            " 59  2055            51436 non-null   float64\n",
            " 60  2060            51436 non-null   float64\n",
            " 61  2065            51436 non-null   float64\n",
            " 62  2070            51436 non-null   float64\n",
            " 63  2075            51436 non-null   float64\n",
            " 64  2080            51436 non-null   float64\n",
            " 65  2085            51436 non-null   float64\n",
            " 66  2090            51436 non-null   float64\n",
            " 67  2095            51436 non-null   float64\n",
            " 68  2100            51436 non-null   float64\n",
            " 69  Unnamed: 69     0 non-null       float64\n",
            "dtypes: float64(66), object(4)\n",
            "memory usage: 473.7+ MB\n"
          ],
          "name": "stdout"
        }
      ]
    },
    {
      "cell_type": "code",
      "metadata": {
        "id": "tX7__ORBkUw8"
      },
      "source": [
        "# lets take only those rows in data that are in the interval 2010-2011 that are not null for any of the values\n",
        "cols = []\n",
        "cols.extend(['Country Name','Country Code','Indicator Name','Indicator Code'])\n",
        "check_cols = list(np.arange(2000,2011,1).astype(str))\n",
        "cols.extend(check_cols)\n",
        "df_stats_new = df_stats[cols][~df_stats[check_cols].isna().any(axis=1)]"
      ],
      "execution_count": 34,
      "outputs": []
    },
    {
      "cell_type": "code",
      "metadata": {
        "colab": {
          "base_uri": "https://localhost:8080/",
          "height": 695
        },
        "id": "S3buLFQ3nL-S",
        "outputId": "43a97706-ad04-477a-c4a6-6e8078cea694"
      },
      "source": [
        "df_stats_new.head()"
      ],
      "execution_count": 35,
      "outputs": [
        {
          "output_type": "execute_result",
          "data": {
            "text/html": [
              "<div>\n",
              "<style scoped>\n",
              "    .dataframe tbody tr th:only-of-type {\n",
              "        vertical-align: middle;\n",
              "    }\n",
              "\n",
              "    .dataframe tbody tr th {\n",
              "        vertical-align: top;\n",
              "    }\n",
              "\n",
              "    .dataframe thead th {\n",
              "        text-align: right;\n",
              "    }\n",
              "</style>\n",
              "<table border=\"1\" class=\"dataframe\">\n",
              "  <thead>\n",
              "    <tr style=\"text-align: right;\">\n",
              "      <th></th>\n",
              "      <th>Country Name</th>\n",
              "      <th>Country Code</th>\n",
              "      <th>Indicator Name</th>\n",
              "      <th>Indicator Code</th>\n",
              "      <th>2000</th>\n",
              "      <th>2001</th>\n",
              "      <th>2002</th>\n",
              "      <th>2003</th>\n",
              "      <th>2004</th>\n",
              "      <th>2005</th>\n",
              "      <th>2006</th>\n",
              "      <th>2007</th>\n",
              "      <th>2008</th>\n",
              "      <th>2009</th>\n",
              "      <th>2010</th>\n",
              "    </tr>\n",
              "  </thead>\n",
              "  <tbody>\n",
              "    <tr>\n",
              "      <th>4</th>\n",
              "      <td>Arab World</td>\n",
              "      <td>ARB</td>\n",
              "      <td>Adjusted net enrolment rate, primary, both sex...</td>\n",
              "      <td>SE.PRM.TENR</td>\n",
              "      <td>77.245682</td>\n",
              "      <td>78.800522</td>\n",
              "      <td>80.051399</td>\n",
              "      <td>80.805389</td>\n",
              "      <td>81.607063</td>\n",
              "      <td>82.489487</td>\n",
              "      <td>82.685509</td>\n",
              "      <td>83.280342</td>\n",
              "      <td>84.011871</td>\n",
              "      <td>84.195961</td>\n",
              "      <td>85.211998</td>\n",
              "    </tr>\n",
              "    <tr>\n",
              "      <th>5</th>\n",
              "      <td>Arab World</td>\n",
              "      <td>ARB</td>\n",
              "      <td>Adjusted net enrolment rate, primary, female (%)</td>\n",
              "      <td>SE.PRM.TENR.FE</td>\n",
              "      <td>73.275620</td>\n",
              "      <td>75.132980</td>\n",
              "      <td>76.641022</td>\n",
              "      <td>77.653580</td>\n",
              "      <td>78.485397</td>\n",
              "      <td>79.475769</td>\n",
              "      <td>79.608330</td>\n",
              "      <td>80.582420</td>\n",
              "      <td>81.473801</td>\n",
              "      <td>81.695686</td>\n",
              "      <td>82.871651</td>\n",
              "    </tr>\n",
              "    <tr>\n",
              "      <th>6</th>\n",
              "      <td>Arab World</td>\n",
              "      <td>ARB</td>\n",
              "      <td>Adjusted net enrolment rate, primary, gender p...</td>\n",
              "      <td>UIS.NERA.1.GPI</td>\n",
              "      <td>0.904060</td>\n",
              "      <td>0.912750</td>\n",
              "      <td>0.919790</td>\n",
              "      <td>0.926300</td>\n",
              "      <td>0.927680</td>\n",
              "      <td>0.930840</td>\n",
              "      <td>0.929620</td>\n",
              "      <td>0.938460</td>\n",
              "      <td>0.942500</td>\n",
              "      <td>0.943470</td>\n",
              "      <td>0.947620</td>\n",
              "    </tr>\n",
              "    <tr>\n",
              "      <th>7</th>\n",
              "      <td>Arab World</td>\n",
              "      <td>ARB</td>\n",
              "      <td>Adjusted net enrolment rate, primary, male (%)</td>\n",
              "      <td>SE.PRM.TENR.MA</td>\n",
              "      <td>81.051369</td>\n",
              "      <td>82.315048</td>\n",
              "      <td>83.324059</td>\n",
              "      <td>83.832230</td>\n",
              "      <td>84.604393</td>\n",
              "      <td>85.380287</td>\n",
              "      <td>85.635078</td>\n",
              "      <td>85.866692</td>\n",
              "      <td>86.444138</td>\n",
              "      <td>86.590691</td>\n",
              "      <td>87.452583</td>\n",
              "    </tr>\n",
              "    <tr>\n",
              "      <th>12</th>\n",
              "      <td>Arab World</td>\n",
              "      <td>ARB</td>\n",
              "      <td>Adjusted net intake rate to Grade 1 of primary...</td>\n",
              "      <td>UIS.NIRA.1</td>\n",
              "      <td>70.737579</td>\n",
              "      <td>73.594200</td>\n",
              "      <td>74.976158</td>\n",
              "      <td>75.328583</td>\n",
              "      <td>76.428513</td>\n",
              "      <td>76.131767</td>\n",
              "      <td>75.222557</td>\n",
              "      <td>75.595695</td>\n",
              "      <td>74.893944</td>\n",
              "      <td>74.814552</td>\n",
              "      <td>76.197044</td>\n",
              "    </tr>\n",
              "  </tbody>\n",
              "</table>\n",
              "</div>"
            ],
            "text/plain": [
              "   Country Name Country Code  ...       2009       2010\n",
              "4    Arab World          ARB  ...  84.195961  85.211998\n",
              "5    Arab World          ARB  ...  81.695686  82.871651\n",
              "6    Arab World          ARB  ...   0.943470   0.947620\n",
              "7    Arab World          ARB  ...  86.590691  87.452583\n",
              "12   Arab World          ARB  ...  74.814552  76.197044\n",
              "\n",
              "[5 rows x 15 columns]"
            ]
          },
          "metadata": {
            "tags": []
          },
          "execution_count": 35
        }
      ]
    },
    {
      "cell_type": "code",
      "metadata": {
        "colab": {
          "base_uri": "https://localhost:8080/"
        },
        "id": "wOu4cUDmrBsc",
        "outputId": "4d87fc8c-a566-4651-b404-d23a71accfb3"
      },
      "source": [
        "df_stats_new.info()"
      ],
      "execution_count": 36,
      "outputs": [
        {
          "output_type": "stream",
          "text": [
            "<class 'pandas.core.frame.DataFrame'>\n",
            "Int64Index: 81572 entries, 4 to 886613\n",
            "Data columns (total 15 columns):\n",
            " #   Column          Non-Null Count  Dtype  \n",
            "---  ------          --------------  -----  \n",
            " 0   Country Name    81572 non-null  object \n",
            " 1   Country Code    81572 non-null  object \n",
            " 2   Indicator Name  81572 non-null  object \n",
            " 3   Indicator Code  81572 non-null  object \n",
            " 4   2000            81572 non-null  float64\n",
            " 5   2001            81572 non-null  float64\n",
            " 6   2002            81572 non-null  float64\n",
            " 7   2003            81572 non-null  float64\n",
            " 8   2004            81572 non-null  float64\n",
            " 9   2005            81572 non-null  float64\n",
            " 10  2006            81572 non-null  float64\n",
            " 11  2007            81572 non-null  float64\n",
            " 12  2008            81572 non-null  float64\n",
            " 13  2009            81572 non-null  float64\n",
            " 14  2010            81572 non-null  float64\n",
            "dtypes: float64(11), object(4)\n",
            "memory usage: 10.0+ MB\n"
          ],
          "name": "stdout"
        }
      ]
    },
    {
      "cell_type": "code",
      "metadata": {
        "colab": {
          "base_uri": "https://localhost:8080/"
        },
        "id": "KvjLWljQtJbb",
        "outputId": "a3fd8050-6be7-43fc-fa88-6a2ffba9580d"
      },
      "source": [
        "df_stats_new.shape"
      ],
      "execution_count": 37,
      "outputs": [
        {
          "output_type": "execute_result",
          "data": {
            "text/plain": [
              "(81572, 15)"
            ]
          },
          "metadata": {
            "tags": []
          },
          "execution_count": 37
        }
      ]
    },
    {
      "cell_type": "code",
      "metadata": {
        "colab": {
          "base_uri": "https://localhost:8080/"
        },
        "id": "yaGoY8XErbn2",
        "outputId": "f05db649-ed71-4b3d-ea2e-28992a564b74"
      },
      "source": [
        "df_stats_new['Indicator Name'].unique().shape"
      ],
      "execution_count": 38,
      "outputs": [
        {
          "output_type": "execute_result",
          "data": {
            "text/plain": [
              "(1110,)"
            ]
          },
          "metadata": {
            "tags": []
          },
          "execution_count": 38
        }
      ]
    },
    {
      "cell_type": "code",
      "metadata": {
        "id": "GmrnXvwurn7O",
        "colab": {
          "base_uri": "https://localhost:8080/"
        },
        "outputId": "a0015b1c-d919-4a30-8a7b-d2ed373ccffe"
      },
      "source": [
        "df_stats_new['Country Name'].unique().shape"
      ],
      "execution_count": 39,
      "outputs": [
        {
          "output_type": "execute_result",
          "data": {
            "text/plain": [
              "(242,)"
            ]
          },
          "metadata": {
            "tags": []
          },
          "execution_count": 39
        }
      ]
    },
    {
      "cell_type": "code",
      "metadata": {
        "id": "j0tjaYbbq3KR"
      },
      "source": [
        "# This function checks for a particular keyord in the set of indicators\n",
        "def check_features(df,strings):\n",
        "  indicators = list(df['Indicator Name'].unique())\n",
        "  req_indicators = []\n",
        "  for indicator in indicators:\n",
        "    for string in strings:\n",
        "      if string in indicator:\n",
        "        req_indicators.append(indicator)\n",
        "  return req_indicators"
      ],
      "execution_count": 40,
      "outputs": []
    },
    {
      "cell_type": "code",
      "metadata": {
        "colab": {
          "base_uri": "https://localhost:8080/"
        },
        "id": "Bdqu4QbxBH-J",
        "outputId": "9833ff4e-d1b7-4c6b-d5bf-ea7fbdde4e58"
      },
      "source": [
        "df_stats_new['Indicator Name'].unique()[:10]"
      ],
      "execution_count": 41,
      "outputs": [
        {
          "output_type": "execute_result",
          "data": {
            "text/plain": [
              "array(['Adjusted net enrolment rate, primary, both sexes (%)',\n",
              "       'Adjusted net enrolment rate, primary, female (%)',\n",
              "       'Adjusted net enrolment rate, primary, gender parity index (GPI)',\n",
              "       'Adjusted net enrolment rate, primary, male (%)',\n",
              "       'Adjusted net intake rate to Grade 1 of primary education, both sexes (%)',\n",
              "       'Adult illiterate population, 15+ years, % female',\n",
              "       'Adult illiterate population, 15+ years, both sexes (number)',\n",
              "       'Adult illiterate population, 15+ years, female (number)',\n",
              "       'Adult illiterate population, 15+ years, male (number)',\n",
              "       'Adult literacy rate, population 15+ years, both sexes (%)'],\n",
              "      dtype=object)"
            ]
          },
          "metadata": {
            "tags": []
          },
          "execution_count": 41
        }
      ]
    },
    {
      "cell_type": "markdown",
      "metadata": {
        "id": "88iJPYiPE5Ip"
      },
      "source": [
        "***As discussed today during the brain storming session, I'll focussing on the role of expenditures in education !***"
      ]
    },
    {
      "cell_type": "code",
      "metadata": {
        "id": "Hx0sGVwW5eG4"
      },
      "source": [
        "# lets check for indicators that are related to expenditure\n",
        "req_indicators = check_features(df_stats_new,['expenditure'])"
      ],
      "execution_count": 42,
      "outputs": []
    },
    {
      "cell_type": "code",
      "metadata": {
        "colab": {
          "base_uri": "https://localhost:8080/"
        },
        "id": "Fs0uAAvY5rlp",
        "outputId": "a8cd15cb-e49b-4a88-a314-b65bb8177b21"
      },
      "source": [
        "req_indicators"
      ],
      "execution_count": 43,
      "outputs": [
        {
          "output_type": "execute_result",
          "data": {
            "text/plain": [
              "['Expenditure on education as % of total government expenditure (%)',\n",
              " 'Expenditure on lower secondary as % of government expenditure on education (%)',\n",
              " 'Expenditure on lower secondary as % of total government expenditure (%)',\n",
              " 'Expenditure on pre-primary as % of government expenditure on education (%)',\n",
              " 'Expenditure on pre-primary as % of total government expenditure (%)',\n",
              " 'Expenditure on primary as % of government expenditure on education (%)',\n",
              " 'Expenditure on primary as % of total government expenditure (%)',\n",
              " 'Expenditure on secondary as % of government expenditure on education (%)',\n",
              " 'Expenditure on secondary as % of total government expenditure (%)',\n",
              " 'Expenditure on tertiary as % of government expenditure on education (%)',\n",
              " 'Expenditure on tertiary as % of total government expenditure (%)',\n",
              " 'Expenditure on upper secondary as % of government expenditure on education (%)',\n",
              " 'Expenditure on upper secondary as % of total government expenditure (%)',\n",
              " 'Government expenditure in pre-primary institutions as % of GDP (%)',\n",
              " 'Government expenditure in primary institutions as % of GDP (%)',\n",
              " 'Government expenditure in secondary institutions education as % of GDP (%)',\n",
              " 'Government expenditure on education as % of GDP (%)',\n",
              " 'Government expenditure on pre-primary education as % of GDP (%)',\n",
              " 'Government expenditure on primary education as % of GDP (%)',\n",
              " 'Government expenditure on secondary education as % of GDP (%)',\n",
              " 'Government expenditure on tertiary education as % of GDP (%)',\n",
              " 'Government expenditure per lower secondary student (constant US$)',\n",
              " 'Government expenditure per lower secondary student (US$)',\n",
              " 'Government expenditure per lower secondary student as % of GDP per capita (%)',\n",
              " 'Government expenditure per primary student (constant US$)',\n",
              " 'Government expenditure per primary student (US$)',\n",
              " 'Government expenditure per primary student as % of GDP per capita (%)',\n",
              " 'Government expenditure per secondary student (constant US$)',\n",
              " 'Government expenditure per secondary student (US$)',\n",
              " 'Government expenditure per secondary student as % of GDP per capita (%)',\n",
              " 'Government expenditure per tertiary student (constant US$)',\n",
              " 'Government expenditure per tertiary student (US$)',\n",
              " 'Government expenditure per tertiary student as % of GDP per capita (%)',\n",
              " 'Government expenditure per upper secondary student (constant US$)',\n",
              " 'Government expenditure per upper secondary student (US$)',\n",
              " 'Government expenditure per upper secondary student as % of GDP per capita (%)',\n",
              " 'All staff compensation as % of total expenditure in lower secondary public institutions (%)',\n",
              " 'All staff compensation as % of total expenditure in post-secondary non-tertiary public institutions (%)',\n",
              " 'All staff compensation as % of total expenditure in pre-primary public institutions (%)',\n",
              " 'All staff compensation as % of total expenditure in primary public institutions (%)',\n",
              " 'All staff compensation as % of total expenditure in public institutions (%)',\n",
              " 'All staff compensation as % of total expenditure in secondary public institutions (%)',\n",
              " 'All staff compensation as % of total expenditure in tertiary public institutions (%)',\n",
              " 'All staff compensation as % of total expenditure in upper secondary public institutions (%)',\n",
              " 'Capital expenditure as % of total expenditure in lower secondary public institutions (%)',\n",
              " 'Capital expenditure as % of total expenditure in post-secondary non-tertiary public institutions (%)',\n",
              " 'Capital expenditure as % of total expenditure in pre-primary public institutions (%)',\n",
              " 'Capital expenditure as % of total expenditure in primary public institutions (%)',\n",
              " 'Capital expenditure as % of total expenditure in public institutions (%)',\n",
              " 'Capital expenditure as % of total expenditure in secondary public institutions (%)',\n",
              " 'Capital expenditure as % of total expenditure in tertiary public institutions (%)',\n",
              " 'Capital expenditure as % of total expenditure in upper-secondary public institutions (%)',\n",
              " 'Current expenditure as % of total expenditure in lower secondary public institutions (%)',\n",
              " 'Current expenditure as % of total expenditure in post-secondary non-tertiary public institutions (%)',\n",
              " 'Current expenditure as % of total expenditure in pre-primary public institutions (%)',\n",
              " 'Current expenditure as % of total expenditure in primary public institutions (%)',\n",
              " 'Current expenditure as % of total expenditure in public institutions (%)',\n",
              " 'Current expenditure as % of total expenditure in secondary public institutions (%)',\n",
              " 'Current expenditure as % of total expenditure in tertiary public institutions (%)',\n",
              " 'Current expenditure as % of total expenditure in upper-secondary public institutions (%)',\n",
              " 'Current expenditure other than staff compensation as % of total expenditure in lower secondary public institutions (%)',\n",
              " 'Current expenditure other than staff compensation as % of total expenditure in post-secondary non-tertiary public institutions (%)',\n",
              " 'Current expenditure other than staff compensation as % of total expenditure in pre-primary public institutions (%)',\n",
              " 'Current expenditure other than staff compensation as % of total expenditure in primary public institutions (%)',\n",
              " 'Current expenditure other than staff compensation as % of total expenditure in public institutions (%)',\n",
              " 'Current expenditure other than staff compensation as % of total expenditure in secondary public institutions (%)',\n",
              " 'Current expenditure other than staff compensation as % of total expenditure in tertiary public institutions (%)',\n",
              " 'Current expenditure other than staff compensation as % of total expenditure in upper secondary public institutions (%)',\n",
              " 'Expenditure on post-secondary non-tertiary as % of government expenditure on education (%)',\n",
              " 'Expenditure on post-secondary non-tertiary as % of total government expenditure (%)',\n",
              " 'Government expenditure in educational institutions as % of GDP (%)',\n",
              " 'Government expenditure in post-secondary non-tertiary institutions as % of GDP (%)',\n",
              " 'Government expenditure in tertiary institutions as % of GDP (%)',\n",
              " 'Government expenditure on post-secondary non-tertiary education as % of GDP (%)',\n",
              " 'Government expenditure per lower secondary student (constant PPP$)',\n",
              " 'Government expenditure per lower secondary student (PPP$)',\n",
              " 'Government expenditure per post-secondary non-tertiary student (constant PPP$)',\n",
              " 'Government expenditure per post-secondary non-tertiary student (constant US$)',\n",
              " 'Government expenditure per post-secondary non-tertiary student (PPP$)',\n",
              " 'Government expenditure per post-secondary non-tertiary student (US$)',\n",
              " 'Government expenditure per post-secondary non-tertiary student as % of GDP per capita (%)',\n",
              " 'Government expenditure per primary student (constant PPP$)',\n",
              " 'Government expenditure per primary student (PPP$)',\n",
              " 'Government expenditure per secondary student (constant PPP$)',\n",
              " 'Government expenditure per secondary student (PPP$)',\n",
              " 'Government expenditure per tertiary student (constant PPP$)',\n",
              " 'Government expenditure per tertiary student (PPP$)',\n",
              " 'Government expenditure per upper secondary student (constant PPP$)',\n",
              " 'Government expenditure per upper secondary student (PPP$)',\n",
              " 'Expenditure on education not allocated by level as % of government expenditure on education (%)']"
            ]
          },
          "metadata": {
            "tags": []
          },
          "execution_count": 43
        }
      ]
    },
    {
      "cell_type": "markdown",
      "metadata": {
        "id": "hYIT75Ke8Q9J"
      },
      "source": [
        "**Lets try to visualize a couple of expenditure indicators and their role in India's education scenario!**"
      ]
    },
    {
      "cell_type": "code",
      "metadata": {
        "id": "hy_tZLaVJCCX"
      },
      "source": [
        "# First let us create a dataframe for india for years starting 1970 until 2018\n",
        "cols = []\n",
        "cols.extend(['Country Name','Country Code','Indicator Name','Indicator Code'])\n",
        "check_cols = list(np.arange(1970,2018,1).astype(str))\n",
        "cols.extend(check_cols)\n",
        "df_stats_india = df_stats[df_stats['Country Name']=='India'].loc[:,cols]"
      ],
      "execution_count": 44,
      "outputs": []
    },
    {
      "cell_type": "code",
      "metadata": {
        "colab": {
          "base_uri": "https://localhost:8080/"
        },
        "id": "V0z5zVhpLUjf",
        "outputId": "b66235fc-2191-438c-9759-160307f29f97"
      },
      "source": [
        "df_stats_india.info()"
      ],
      "execution_count": 45,
      "outputs": [
        {
          "output_type": "stream",
          "text": [
            "<class 'pandas.core.frame.DataFrame'>\n",
            "Int64Index: 3665 entries, 414145 to 417809\n",
            "Data columns (total 52 columns):\n",
            " #   Column          Non-Null Count  Dtype  \n",
            "---  ------          --------------  -----  \n",
            " 0   Country Name    3665 non-null   object \n",
            " 1   Country Code    3665 non-null   object \n",
            " 2   Indicator Name  3665 non-null   object \n",
            " 3   Indicator Code  3665 non-null   object \n",
            " 4   1970            416 non-null    float64\n",
            " 5   1971            261 non-null    float64\n",
            " 6   1972            141 non-null    float64\n",
            " 7   1973            171 non-null    float64\n",
            " 8   1974            159 non-null    float64\n",
            " 9   1975            498 non-null    float64\n",
            " 10  1976            156 non-null    float64\n",
            " 11  1977            152 non-null    float64\n",
            " 12  1978            152 non-null    float64\n",
            " 13  1979            107 non-null    float64\n",
            " 14  1980            495 non-null    float64\n",
            " 15  1981            177 non-null    float64\n",
            " 16  1982            147 non-null    float64\n",
            " 17  1983            147 non-null    float64\n",
            " 18  1984            151 non-null    float64\n",
            " 19  1985            463 non-null    float64\n",
            " 20  1986            163 non-null    float64\n",
            " 21  1987            300 non-null    float64\n",
            " 22  1988            291 non-null    float64\n",
            " 23  1989            197 non-null    float64\n",
            " 24  1990            670 non-null    float64\n",
            " 25  1991            321 non-null    float64\n",
            " 26  1992            376 non-null    float64\n",
            " 27  1993            319 non-null    float64\n",
            " 28  1994            347 non-null    float64\n",
            " 29  1995            796 non-null    float64\n",
            " 30  1996            354 non-null    float64\n",
            " 31  1997            346 non-null    float64\n",
            " 32  1998            399 non-null    float64\n",
            " 33  1999            557 non-null    float64\n",
            " 34  2000            1026 non-null   float64\n",
            " 35  2001            698 non-null    float64\n",
            " 36  2002            604 non-null    float64\n",
            " 37  2003            632 non-null    float64\n",
            " 38  2004            491 non-null    float64\n",
            " 39  2005            963 non-null    float64\n",
            " 40  2006            674 non-null    float64\n",
            " 41  2007            468 non-null    float64\n",
            " 42  2008            469 non-null    float64\n",
            " 43  2009            491 non-null    float64\n",
            " 44  2010            1188 non-null   float64\n",
            " 45  2011            610 non-null    float64\n",
            " 46  2012            466 non-null    float64\n",
            " 47  2013            751 non-null    float64\n",
            " 48  2014            313 non-null    float64\n",
            " 49  2015            657 non-null    float64\n",
            " 50  2016            43 non-null     float64\n",
            " 51  2017            0 non-null      float64\n",
            "dtypes: float64(48), object(4)\n",
            "memory usage: 1.5+ MB\n"
          ],
          "name": "stdout"
        }
      ]
    },
    {
      "cell_type": "code",
      "metadata": {
        "colab": {
          "base_uri": "https://localhost:8080/"
        },
        "id": "_4YoP-hNJRfx",
        "outputId": "af5e24cd-a22e-4a99-8609-a9363a313f73"
      },
      "source": [
        "# lets findout indicators corresponding to expenditure in this dataset now\n",
        "exp_indicators = check_features(df_stats_india,['expenditure'])\n",
        "exp_indicators"
      ],
      "execution_count": 46,
      "outputs": [
        {
          "output_type": "execute_result",
          "data": {
            "text/plain": [
              "['All staff compensation as % of total expenditure in lower secondary public institutions (%)',\n",
              " 'All staff compensation as % of total expenditure in post-secondary non-tertiary public institutions (%)',\n",
              " 'All staff compensation as % of total expenditure in pre-primary public institutions (%)',\n",
              " 'All staff compensation as % of total expenditure in primary public institutions (%)',\n",
              " 'All staff compensation as % of total expenditure in public institutions (%)',\n",
              " 'All staff compensation as % of total expenditure in secondary public institutions (%)',\n",
              " 'All staff compensation as % of total expenditure in tertiary public institutions (%)',\n",
              " 'All staff compensation as % of total expenditure in upper secondary public institutions (%)',\n",
              " 'Capital expenditure as % of total expenditure in lower secondary public institutions (%)',\n",
              " 'Capital expenditure as % of total expenditure in post-secondary non-tertiary public institutions (%)',\n",
              " 'Capital expenditure as % of total expenditure in pre-primary public institutions (%)',\n",
              " 'Capital expenditure as % of total expenditure in primary public institutions (%)',\n",
              " 'Capital expenditure as % of total expenditure in public institutions (%)',\n",
              " 'Capital expenditure as % of total expenditure in secondary public institutions (%)',\n",
              " 'Capital expenditure as % of total expenditure in tertiary public institutions (%)',\n",
              " 'Capital expenditure as % of total expenditure in upper-secondary public institutions (%)',\n",
              " 'Current expenditure as % of total expenditure in lower secondary public institutions (%)',\n",
              " 'Current expenditure as % of total expenditure in post-secondary non-tertiary public institutions (%)',\n",
              " 'Current expenditure as % of total expenditure in pre-primary public institutions (%)',\n",
              " 'Current expenditure as % of total expenditure in primary public institutions (%)',\n",
              " 'Current expenditure as % of total expenditure in public institutions (%)',\n",
              " 'Current expenditure as % of total expenditure in secondary public institutions (%)',\n",
              " 'Current expenditure as % of total expenditure in tertiary public institutions (%)',\n",
              " 'Current expenditure as % of total expenditure in upper-secondary public institutions (%)',\n",
              " 'Current expenditure other than staff compensation as % of total expenditure in lower secondary public institutions (%)',\n",
              " 'Current expenditure other than staff compensation as % of total expenditure in post-secondary non-tertiary public institutions (%)',\n",
              " 'Current expenditure other than staff compensation as % of total expenditure in pre-primary public institutions (%)',\n",
              " 'Current expenditure other than staff compensation as % of total expenditure in primary public institutions (%)',\n",
              " 'Current expenditure other than staff compensation as % of total expenditure in public institutions (%)',\n",
              " 'Current expenditure other than staff compensation as % of total expenditure in secondary public institutions (%)',\n",
              " 'Current expenditure other than staff compensation as % of total expenditure in tertiary public institutions (%)',\n",
              " 'Current expenditure other than staff compensation as % of total expenditure in upper secondary public institutions (%)',\n",
              " 'Expenditure on education as % of total government expenditure (%)',\n",
              " 'Expenditure on education not allocated by level as % of government expenditure on education (%)',\n",
              " 'Expenditure on lower secondary as % of government expenditure on education (%)',\n",
              " 'Expenditure on lower secondary as % of total government expenditure (%)',\n",
              " 'Expenditure on post-secondary non-tertiary as % of government expenditure on education (%)',\n",
              " 'Expenditure on post-secondary non-tertiary as % of total government expenditure (%)',\n",
              " 'Expenditure on pre-primary as % of government expenditure on education (%)',\n",
              " 'Expenditure on pre-primary as % of total government expenditure (%)',\n",
              " 'Expenditure on primary as % of government expenditure on education (%)',\n",
              " 'Expenditure on primary as % of total government expenditure (%)',\n",
              " 'Expenditure on secondary and post-secondary non-tertiary vocational as % of government expenditure on education (%)',\n",
              " 'Expenditure on secondary and post-secondary non-tertiary vocational education as % of total government expenditure (%)',\n",
              " 'Expenditure on secondary as % of government expenditure on education (%)',\n",
              " 'Expenditure on secondary as % of total government expenditure (%)',\n",
              " 'Expenditure on tertiary as % of government expenditure on education (%)',\n",
              " 'Expenditure on tertiary as % of total government expenditure (%)',\n",
              " 'Expenditure on upper secondary as % of government expenditure on education (%)',\n",
              " 'Expenditure on upper secondary as % of total government expenditure (%)',\n",
              " 'Government expenditure in educational institutions as % of GDP (%)',\n",
              " 'Government expenditure in post-secondary non-tertiary institutions as % of GDP (%)',\n",
              " 'Government expenditure in pre-primary institutions as % of GDP (%)',\n",
              " 'Government expenditure in primary institutions as % of GDP (%)',\n",
              " 'Government expenditure in secondary institutions education as % of GDP (%)',\n",
              " 'Government expenditure in tertiary institutions as % of GDP (%)',\n",
              " 'Government expenditure on education as % of GDP (%)',\n",
              " 'Government expenditure on post-secondary non-tertiary education as % of GDP (%)',\n",
              " 'Government expenditure on pre-primary education as % of GDP (%)',\n",
              " 'Government expenditure on primary education as % of GDP (%)',\n",
              " 'Government expenditure on secondary and post-secondary non-tertiary vocational education as % of GDP (%)',\n",
              " 'Government expenditure on secondary education as % of GDP (%)',\n",
              " 'Government expenditure on tertiary education as % of GDP (%)',\n",
              " 'Government expenditure per lower secondary student (constant PPP$)',\n",
              " 'Government expenditure per lower secondary student (constant US$)',\n",
              " 'Government expenditure per lower secondary student (PPP$)',\n",
              " 'Government expenditure per lower secondary student (US$)',\n",
              " 'Government expenditure per lower secondary student as % of GDP per capita (%)',\n",
              " 'Government expenditure per post-secondary non-tertiary student (constant PPP$)',\n",
              " 'Government expenditure per post-secondary non-tertiary student (constant US$)',\n",
              " 'Government expenditure per post-secondary non-tertiary student (PPP$)',\n",
              " 'Government expenditure per post-secondary non-tertiary student (US$)',\n",
              " 'Government expenditure per post-secondary non-tertiary student as % of GDP per capita (%)',\n",
              " 'Government expenditure per primary student (constant PPP$)',\n",
              " 'Government expenditure per primary student (constant US$)',\n",
              " 'Government expenditure per primary student (PPP$)',\n",
              " 'Government expenditure per primary student (US$)',\n",
              " 'Government expenditure per primary student as % of GDP per capita (%)',\n",
              " 'Government expenditure per secondary student (constant PPP$)',\n",
              " 'Government expenditure per secondary student (constant US$)',\n",
              " 'Government expenditure per secondary student (PPP$)',\n",
              " 'Government expenditure per secondary student (US$)',\n",
              " 'Government expenditure per secondary student as % of GDP per capita (%)',\n",
              " 'Government expenditure per tertiary student (constant PPP$)',\n",
              " 'Government expenditure per tertiary student (constant US$)',\n",
              " 'Government expenditure per tertiary student (PPP$)',\n",
              " 'Government expenditure per tertiary student (US$)',\n",
              " 'Government expenditure per tertiary student as % of GDP per capita (%)',\n",
              " 'Government expenditure per upper secondary student (constant PPP$)',\n",
              " 'Government expenditure per upper secondary student (constant US$)',\n",
              " 'Government expenditure per upper secondary student (PPP$)',\n",
              " 'Government expenditure per upper secondary student (US$)',\n",
              " 'Government expenditure per upper secondary student as % of GDP per capita (%)',\n",
              " 'SABER: (School Finance) Policy Goal 6 Lever 2: Are education expenditures audited?']"
            ]
          },
          "metadata": {
            "tags": []
          },
          "execution_count": 46
        }
      ]
    },
    {
      "cell_type": "code",
      "metadata": {
        "id": "USUDkJ2pLnHT"
      },
      "source": [
        "# lets look at couple of these indicators one by one\n",
        "param = 'Expenditure on education as % of total government expenditure (%)'\n",
        "perct_exp_on_education_india = df_stats_india[df_stats_india['Indicator Name']==param]"
      ],
      "execution_count": 47,
      "outputs": []
    },
    {
      "cell_type": "code",
      "metadata": {
        "id": "a4aFB_7BMNvD"
      },
      "source": [
        "perct_exp_on_education_india = perct_exp_on_education_india.dropna(axis=1)"
      ],
      "execution_count": 48,
      "outputs": []
    },
    {
      "cell_type": "code",
      "metadata": {
        "colab": {
          "base_uri": "https://localhost:8080/",
          "height": 441
        },
        "id": "VX6wpZZNM7gU",
        "outputId": "dc57fc4e-0b02-4c7c-d2b7-134998268912"
      },
      "source": [
        "cols = perct_exp_on_education_india.columns.values[4:]\n",
        "values = perct_exp_on_education_india.iloc[:,4:].values[0]\n",
        "print(cols,values)\n",
        "plt.rcParams['figure.figsize'] = (10,5)\n",
        "plt.bar(cols,values)\n",
        "plt.xlabel('Years')\n",
        "plt.ylabel('% govt. expenditure on education in india')"
      ],
      "execution_count": 49,
      "outputs": [
        {
          "output_type": "stream",
          "text": [
            "['1997' '1998' '1999' '2000' '2003' '2004' '2005' '2006' '2009' '2010'\n",
            " '2011' '2012' '2013'] [13.90414047 14.77775002 17.64340973 17.49650002 12.92222977 11.55218983\n",
            " 11.53215027 11.78108978 10.82184029 11.74277973 13.67652035 14.06268024\n",
            " 14.09095955]\n"
          ],
          "name": "stdout"
        },
        {
          "output_type": "execute_result",
          "data": {
            "text/plain": [
              "Text(0, 0.5, '% govt. expenditure on education in india')"
            ]
          },
          "metadata": {
            "tags": []
          },
          "execution_count": 49
        },
        {
          "output_type": "display_data",
          "data": {
            "image/png": "[encoded data removed]",
            "text/plain": [
              "<Figure size 720x360 with 1 Axes>"
            ]
          },
          "metadata": {
            "tags": [],
            "needs_background": "light"
          }
        }
      ]
    },
    {
      "cell_type": "markdown",
      "metadata": {
        "id": "jjCdX9gIPz_M"
      },
      "source": [
        "***Since Primary education holds a very important step for education india, lets look at what percentage of total expenditures does indian governement spend on primary education ! ***"
      ]
    },
    {
      "cell_type": "code",
      "metadata": {
        "id": "fFxQZN3JQ6i8"
      },
      "source": [
        "param = 'Expenditure on primary as % of total government expenditure (%)'\n",
        "perct_exp_on_primary_india = df_stats_india[df_stats_india['Indicator Name']==param]"
      ],
      "execution_count": 50,
      "outputs": []
    },
    {
      "cell_type": "code",
      "metadata": {
        "id": "kF6dQc42RBuZ"
      },
      "source": [
        "perct_exp_on_primary_india = perct_exp_on_primary_india.dropna(axis=1)"
      ],
      "execution_count": 51,
      "outputs": []
    },
    {
      "cell_type": "code",
      "metadata": {
        "colab": {
          "base_uri": "https://localhost:8080/",
          "height": 411
        },
        "id": "y_bMoSAbRHI0",
        "outputId": "84680c52-d559-40c6-dde0-45255fc657c0"
      },
      "source": [
        "cols = perct_exp_on_primary_india.columns.values[4:]\n",
        "values = perct_exp_on_primary_india.iloc[:,4:].values[0]\n",
        "print(cols,values)\n",
        "plt.rcParams['figure.figsize'] = (10,5)\n",
        "plt.bar(cols,values)\n",
        "plt.xlabel('Years')\n",
        "plt.ylabel('% educational expenditure on primary education in world')"
      ],
      "execution_count": 52,
      "outputs": [
        {
          "output_type": "stream",
          "text": [
            "['1999' '2000' '2001' '2003' '2004' '2005' '2006' '2009' '2010' '2011'\n",
            " '2012'] [5.30119991 6.57121992 5.89490986 4.66195011 4.20212984 4.1042099\n",
            " 4.16862011 2.88740993 2.95994997 3.63076997 3.82684994]\n"
          ],
          "name": "stdout"
        },
        {
          "output_type": "execute_result",
          "data": {
            "text/plain": [
              "Text(0, 0.5, '% educational expenditure on primary education in world')"
            ]
          },
          "metadata": {
            "tags": []
          },
          "execution_count": 52
        },
        {
          "output_type": "display_data",
          "data": {
            "image/png": "[encoded data removed]",
            "text/plain": [
              "<Figure size 720x360 with 1 Axes>"
            ]
          },
          "metadata": {
            "tags": [],
            "needs_background": "light"
          }
        }
      ]
    },
    {
      "cell_type": "markdown",
      "metadata": {
        "id": "LKkGrEBSTZ1r"
      },
      "source": [
        "***OBSERVATION : The expenditure trend on education by indian government seems to be high during 2000s. However it sshowed a decreasing trend over the years and hit its lowest in the year 2008. SInce then, the government has been slowly increasing its expenditures. Same trend is observed in primary education as well !***"
      ]
    }
  ]
}